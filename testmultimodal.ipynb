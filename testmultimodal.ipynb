{
 "cells": [
  {
   "cell_type": "code",
   "execution_count": 1,
   "metadata": {},
   "outputs": [],
   "source": [
    "from transformers import ViltProcessor, ViltForImagesAndTextClassification\n",
    "import requests\n",
    "from PIL import Image\n",
    "import torch"
   ]
  },
  {
   "cell_type": "code",
   "execution_count": null,
   "metadata": {},
   "outputs": [],
   "source": [
    "image1 = Image.open(\n",
    "    requests.get(\"https://lil.nlp.cornell.edu/nlvr/exs/ex0_0.jpg\", stream=True).raw\n",
    ")\n",
    "image2 = Image.open(\n",
    "    requests.get(\"https://lil.nlp.cornell.edu/nlvr/exs/ex0_1.jpg\", stream=True).raw\n",
    ")\n",
    "text = \"The left image contains twice the number of dogs as the right image.\"\n",
    "\n",
    "processor = ViltProcessor.from_pretrained(\"dandelin/vilt-b32-finetuned-nlvr2\")\n",
    "model = ViltForImagesAndTextClassification.from_pretrained(\n",
    "    \"dandelin/vilt-b32-finetuned-nlvr2\"\n",
    ")\n",
    "# prepare inputs\n",
    "small_encoding = processor([image1, image2], text, return_tensors=\"pt\")\n",
    "\n",
    "\n",
    "# forward pass\n",
    "outputs = model(\n",
    "    input_ids=small_encoding.input_ids,\n",
    "    pixel_values=small_encoding.pixel_values.unsqueeze(0),\n",
    "    labels=torch.tensor([0]),\n",
    ")\n",
    "logits = outputs.logits\n",
    "idx = logits.argmax(-1).item()\n",
    "print(\"Predicted answer:\", model.config.id2label[idx])"
   ]
  },
  {
   "cell_type": "code",
   "execution_count": 39,
   "metadata": {},
   "outputs": [
    {
     "name": "stdout",
     "output_type": "stream",
     "text": [
      "torch.Size([2, 384, 544])\n"
     ]
    }
   ],
   "source": [
    "print(small_encoding[\"pixel_mask\"].shape)"
   ]
  },
  {
   "cell_type": "code",
   "execution_count": 40,
   "metadata": {},
   "outputs": [
    {
     "name": "stdout",
     "output_type": "stream",
     "text": [
      "ViltForImagesAndTextClassificationOutput(loss=tensor(4.8357, grad_fn=<NllLossBackward0>), logits=tensor([[-2.1189,  2.7089]], grad_fn=<AddmmBackward0>), hidden_states=None, attentions=None)\n"
     ]
    }
   ],
   "source": [
    "print(outputs)"
   ]
  },
  {
   "cell_type": "markdown",
   "metadata": {},
   "source": [
    "## 训练"
   ]
  },
  {
   "cell_type": "code",
   "execution_count": 2,
   "metadata": {},
   "outputs": [],
   "source": [
    "%load_ext autoreload\n",
    "%autoreload 2"
   ]
  },
  {
   "cell_type": "code",
   "execution_count": 12,
   "metadata": {},
   "outputs": [
    {
     "data": {
      "application/vnd.jupyter.widget-view+json": {
       "model_id": "c485782286c7453ab6abf1e01be0bcae",
       "version_major": 2,
       "version_minor": 0
      },
      "text/plain": [
       "Generating train split: 0 examples [00:00, ? examples/s]"
      ]
     },
     "metadata": {},
     "output_type": "display_data"
    },
    {
     "data": {
      "application/vnd.jupyter.widget-view+json": {
       "model_id": "499dfdeac5fd45c1adb7c4765233ce04",
       "version_major": 2,
       "version_minor": 0
      },
      "text/plain": [
       "Generating train split: 0 examples [00:00, ? examples/s]"
      ]
     },
     "metadata": {},
     "output_type": "display_data"
    },
    {
     "data": {
      "application/vnd.jupyter.widget-view+json": {
       "model_id": "35eea10a52204dee907ad4f05b49ca5d",
       "version_major": 2,
       "version_minor": 0
      },
      "text/plain": [
       "Generating train split: 0 examples [00:00, ? examples/s]"
      ]
     },
     "metadata": {},
     "output_type": "display_data"
    },
    {
     "name": "stdout",
     "output_type": "stream",
     "text": [
      "DatasetDict({\n",
      "    train: Dataset({\n",
      "        features: ['id', 'path', 'text', 'label'],\n",
      "        num_rows: 3600\n",
      "    })\n",
      "    val: Dataset({\n",
      "        features: ['id', 'path', 'text', 'label'],\n",
      "        num_rows: 400\n",
      "    })\n",
      "    test: Dataset({\n",
      "        features: ['id', 'path', 'text', 'label'],\n",
      "        num_rows: 511\n",
      "    })\n",
      "})\n"
     ]
    }
   ],
   "source": [
    "from datasets import DatasetDict, load_dataset\n",
    "\n",
    "train_dataset = load_dataset(\"json\", data_files=\"train.json\")[\"train\"]\n",
    "test_dataset = load_dataset(\"json\", data_files=\"test.json\")[\"train\"]\n",
    "val_dataset = load_dataset(\"json\", data_files=\"val.json\")[\"train\"]\n",
    "\n",
    "# Create a DatasetDict\n",
    "mydb = DatasetDict({\"train\": train_dataset, \"val\": val_dataset, \"test\": test_dataset})\n",
    "\n",
    "print(mydb)"
   ]
  },
  {
   "cell_type": "code",
   "execution_count": 4,
   "metadata": {},
   "outputs": [],
   "source": [
    "id2label = {0: \"NEGATIVE\", 1: \"NEUTRAL\", 2: \"POSITIVE\"}\n",
    "label2id = {\"NEGATIVE\": 0, \"NEUTRAL\": 1, \"POSITIVE\": 2}"
   ]
  },
  {
   "cell_type": "code",
   "execution_count": 7,
   "metadata": {},
   "outputs": [],
   "source": [
    "# autodl加速，如果不是使用autodl，可以注释掉\n",
    "import subprocess\n",
    "import os\n",
    "\n",
    "result = subprocess.run(\n",
    "    'bash -c \"source /etc/network_turbo && env | grep proxy\"',\n",
    "    shell=True,\n",
    "    capture_output=True,\n",
    "    text=True,\n",
    ")\n",
    "output = result.stdout\n",
    "for line in output.splitlines():\n",
    "    if \"=\" in line:\n",
    "        var, value = line.split(\"=\", 1)\n",
    "        os.environ[var] = value"
   ]
  },
  {
   "cell_type": "code",
   "execution_count": 8,
   "metadata": {},
   "outputs": [],
   "source": [
    "from transformers import ViltConfig, ViltForImagesAndTextClassification\n",
    "\n",
    "# Initializing a ViLT dandelin/vilt-b32-mlm style configuration\n",
    "configuration = ViltConfig(num_images=1, id2label=id2label, label2id=label2id)\n",
    "\n",
    "# Initializing a model from the dandelin/vilt-b32-mlm style configuration\n",
    "model = ViltForImagesAndTextClassification(configuration)\n",
    "\n",
    "\n",
    "processor = ViltProcessor.from_pretrained(\"dandelin/vilt-b32-mlm\")"
   ]
  },
  {
   "cell_type": "code",
   "execution_count": 9,
   "metadata": {},
   "outputs": [
    {
     "name": "stdout",
     "output_type": "stream",
     "text": [
      "{'text': 'Frances prefers parking lot to hotel room #couple #oral #sex #teen #blonde #small #tits #b¡\\xad ', 'id': '3603', 'path': 'data/3603.jpg', 'label': 2}\n",
      "{'text': '@haremprotag ... what if i told you looking at that actually made me a little flustered ', 'id': '2947', 'path': 'data/2947.jpg', 'label': 2}\n",
      "{'text': '×î\\x8f\\x8a¥Þ¥ó¥¬Õi¤ß·Åî}¥³¥ß¥Ã¥¯¥¢¥×¥ê!!! http://t.co/AsudmZm5Xf', 'id': '4934', 'path': 'data/4934.jpg', 'label': 2}\n",
      "{'text': 'Airsoft/Paintball Multicam Camo BDU Uniform Set - Jacket & Pants - Medium - Full read by e¡\\xad ', 'id': '3318', 'path': 'data/3318.jpg', 'label': 1}\n",
      "{'text': '#my #first #tattoo #today #soo #happy #staystrong #stay #strong #brown #baby #brownie #fed¡\\xad ', 'id': '1225', 'path': 'data/1225.jpg', 'label': 2}\n",
      "{'text': \"Zoe's first love #Rattled @JohnnyHarper15 \", 'id': '1669', 'path': 'data/1669.jpg', 'label': 2}\n",
      "{'text': 'RT @ShaunFrankson: RT to mind people that 640', 'id': '4420', 'path': 'data/4420.jpg', 'label': 0}\n",
      "{'text': '$89.95 ?¡\\xad http://t.co/GXppO5gJYW', 'id': '4088', 'path': 'data/4088.jpg', 'label': 1}\n",
      "{'text': 'in #Spain #paris #entertainment #Portug¡\\xad ', 'id': '1017', 'path': 'data/1017.jpg', 'label': 2}\n",
      "{'text': '#February #Winter #Rainy #Stormy #Windy #Wednesday #Morning #Love #Happy #Positive #Passionate #Reading #Coffee ????? ', 'id': '983', 'path': 'data/983.jpg', 'label': 2}\n"
     ]
    }
   ],
   "source": [
    "for i in range(10):\n",
    "    print(mydb[\"train\"][i])"
   ]
  },
  {
   "cell_type": "code",
   "execution_count": 13,
   "metadata": {},
   "outputs": [
    {
     "data": {
      "application/vnd.jupyter.widget-view+json": {
       "model_id": "3e688d996e694fac82128ef7d3c43a5a",
       "version_major": 2,
       "version_minor": 0
      },
      "text/plain": [
       "Map:   0%|          | 0/3600 [00:00<?, ? examples/s]"
      ]
     },
     "metadata": {},
     "output_type": "display_data"
    },
    {
     "data": {
      "application/vnd.jupyter.widget-view+json": {
       "model_id": "09eb746036fa44ddb4c6971cf8a85157",
       "version_major": 2,
       "version_minor": 0
      },
      "text/plain": [
       "Map:   0%|          | 0/400 [00:00<?, ? examples/s]"
      ]
     },
     "metadata": {},
     "output_type": "display_data"
    },
    {
     "data": {
      "application/vnd.jupyter.widget-view+json": {
       "model_id": "8443881099284fa1a530a820742e4262",
       "version_major": 2,
       "version_minor": 0
      },
      "text/plain": [
       "Map:   0%|          | 0/511 [00:00<?, ? examples/s]"
      ]
     },
     "metadata": {},
     "output_type": "display_data"
    }
   ],
   "source": [
    "def preprocess_function(examples):\n",
    "    images = [Image.open(path).resize((224, 224)) for path in examples[\"path\"]]\n",
    "    texts = examples[\"text\"]\n",
    "    encoding = processor(\n",
    "        images,\n",
    "        texts,\n",
    "        return_tensors=\"pt\",\n",
    "        padding=True,\n",
    "        truncation=True,\n",
    "    )\n",
    "    # image = Image.open(examples[\"path\"])\n",
    "    # text = examples[\"text\"]\n",
    "    # encoding = processor([image], text, return_tensors=\"pt\")\n",
    "    # targets = []\n",
    "    # for label in examples[\"label\"]:\n",
    "    #     target = torch.zeros(len(label2id))\n",
    "    #     target[label] = 1\n",
    "    #     targets.append(target)\n",
    "    encoding[\"labels\"] = examples[\"label\"]\n",
    "    return encoding\n",
    "\n",
    "\n",
    "processed_db = mydb.map(preprocess_function, batched=True, batch_size=256)"
   ]
  },
  {
   "cell_type": "code",
   "execution_count": 14,
   "metadata": {},
   "outputs": [
    {
     "name": "stdout",
     "output_type": "stream",
     "text": [
      "DatasetDict({\n",
      "    train: Dataset({\n",
      "        features: ['id', 'path', 'text', 'label', 'input_ids', 'token_type_ids', 'attention_mask', 'pixel_values', 'pixel_mask', 'labels'],\n",
      "        num_rows: 3600\n",
      "    })\n",
      "    val: Dataset({\n",
      "        features: ['id', 'path', 'text', 'label', 'input_ids', 'token_type_ids', 'attention_mask', 'pixel_values', 'pixel_mask', 'labels'],\n",
      "        num_rows: 400\n",
      "    })\n",
      "    test: Dataset({\n",
      "        features: ['id', 'path', 'text', 'label', 'input_ids', 'token_type_ids', 'attention_mask', 'pixel_values', 'pixel_mask', 'labels'],\n",
      "        num_rows: 511\n",
      "    })\n",
      "})\n"
     ]
    }
   ],
   "source": [
    "print(processed_db)"
   ]
  },
  {
   "cell_type": "code",
   "execution_count": 15,
   "metadata": {},
   "outputs": [],
   "source": [
    "import numpy as np\n",
    "import evaluate\n",
    "\n",
    "accuracy = evaluate.load(\"accuracy\")\n",
    "\n",
    "\n",
    "def compute_metrics(eval_pred):\n",
    "    predictions, labels = eval_pred\n",
    "    predictions = np.argmax(predictions, axis=1)\n",
    "    return accuracy.compute(predictions=predictions, references=labels)"
   ]
  },
  {
   "cell_type": "code",
   "execution_count": 16,
   "metadata": {},
   "outputs": [],
   "source": [
    "from transformers import DefaultDataCollator\n",
    "\n",
    "data_collator = DefaultDataCollator()"
   ]
  },
  {
   "cell_type": "code",
   "execution_count": 21,
   "metadata": {},
   "outputs": [
    {
     "name": "stderr",
     "output_type": "stream",
     "text": [
      "Detected kernel version 5.4.0, which is below the recommended minimum of 5.5.0; this can cause the process to hang. It is recommended to upgrade the kernel to the minimum version or higher.\n"
     ]
    }
   ],
   "source": [
    "from transformers import TrainingArguments, Trainer\n",
    "\n",
    "training_args = TrainingArguments(\n",
    "    output_dir=\"multimodalmodel\",\n",
    "    learning_rate=2e-5,\n",
    "    per_device_train_batch_size=32,\n",
    "    per_device_eval_batch_size=32,\n",
    "    num_train_epochs=5,\n",
    "    weight_decay=0.01,\n",
    "    # evaluation_strategy=\"epoch\",\n",
    "    # save_strategy=\"epoch\",\n",
    "    # load_best_model_at_end=True,\n",
    "    # remove_unused_columns=False,  # 防止删掉标签\n",
    ")\n",
    "\n",
    "\n",
    "trainer = Trainer(\n",
    "    model=model,\n",
    "    args=training_args,\n",
    "    train_dataset=processed_db[\"train\"],\n",
    "    eval_dataset=processed_db[\"val\"],\n",
    "    tokenizer=processor,\n",
    "    data_collator=data_collator,\n",
    "    compute_metrics=compute_metrics,\n",
    ")"
   ]
  },
  {
   "cell_type": "code",
   "execution_count": 22,
   "metadata": {},
   "outputs": [
    {
     "data": {
      "text/html": [
       "\n",
       "    <div>\n",
       "      \n",
       "      <progress value='565' max='565' style='width:300px; height:20px; vertical-align: middle;'></progress>\n",
       "      [565/565 1:28:00, Epoch 5/5]\n",
       "    </div>\n",
       "    <table border=\"1\" class=\"dataframe\">\n",
       "  <thead>\n",
       " <tr style=\"text-align: left;\">\n",
       "      <th>Step</th>\n",
       "      <th>Training Loss</th>\n",
       "    </tr>\n",
       "  </thead>\n",
       "  <tbody>\n",
       "    <tr>\n",
       "      <td>500</td>\n",
       "      <td>0.888800</td>\n",
       "    </tr>\n",
       "  </tbody>\n",
       "</table><p>"
      ],
      "text/plain": [
       "<IPython.core.display.HTML object>"
      ]
     },
     "metadata": {},
     "output_type": "display_data"
    },
    {
     "data": {
      "text/plain": [
       "TrainOutput(global_step=565, training_loss=0.8843758979729847, metrics={'train_runtime': 5299.9042, 'train_samples_per_second': 3.396, 'train_steps_per_second': 0.107, 'total_flos': 383247741600000.0, 'train_loss': 0.8843758979729847, 'epoch': 5.0})"
      ]
     },
     "execution_count": 22,
     "metadata": {},
     "output_type": "execute_result"
    }
   ],
   "source": [
    "trainer.train()"
   ]
  },
  {
   "cell_type": "code",
   "execution_count": 23,
   "metadata": {},
   "outputs": [
    {
     "data": {
      "text/html": [
       "\n",
       "    <div>\n",
       "      \n",
       "      <progress value='54' max='13' style='width:300px; height:20px; vertical-align: middle;'></progress>\n",
       "      [13/13 14:02]\n",
       "    </div>\n",
       "    "
      ],
      "text/plain": [
       "<IPython.core.display.HTML object>"
      ]
     },
     "metadata": {},
     "output_type": "display_data"
    },
    {
     "name": "stdout",
     "output_type": "stream",
     "text": [
      "eval_loss: 0.9010838270187378\n",
      "eval_accuracy: 0.5725\n",
      "eval_runtime: 117.5372\n",
      "eval_samples_per_second: 3.403\n",
      "eval_steps_per_second: 0.111\n",
      "epoch: 5.0\n"
     ]
    }
   ],
   "source": [
    "# Suppose 'trainer' is your Trainer instance\n",
    "results = trainer.evaluate()\n",
    "\n",
    "# Print the results\n",
    "for key, value in results.items():\n",
    "    print(f\"{key}: {value}\")"
   ]
  },
  {
   "cell_type": "code",
   "execution_count": 55,
   "metadata": {},
   "outputs": [],
   "source": [
    "device = torch.device(\"cuda:0\" if torch.cuda.is_available() else \"cpu\")\n",
    "\n",
    "\n",
    "def inference_function(examples):\n",
    "    images = Image.open(examples[\"path\"]).resize((224, 224))\n",
    "    texts = examples[\"text\"]\n",
    "    encoding = processor(\n",
    "        images,\n",
    "        texts,\n",
    "        return_tensors=\"pt\",\n",
    "        padding=True,\n",
    "        truncation=True,\n",
    "    )\n",
    "    outputs = model(\n",
    "        input_ids=encoding.input_ids.to(device),\n",
    "        pixel_values=encoding.pixel_values.unsqueeze(0).to(device),\n",
    "    )\n",
    "    logits = outputs.logits\n",
    "    idx = logits.argmax(-1).item()\n",
    "    # print(\"Predicted answer:\", model.config.id2label[idx])\n",
    "    return model.config.id2label[idx]"
   ]
  },
  {
   "cell_type": "code",
   "execution_count": 74,
   "metadata": {},
   "outputs": [
    {
     "name": "stderr",
     "output_type": "stream",
     "text": [
      "  0%|          | 0/3600 [00:00<?, ?it/s]"
     ]
    },
    {
     "name": "stderr",
     "output_type": "stream",
     "text": [
      "100%|██████████| 3600/3600 [02:10<00:00, 27.63it/s]\n"
     ]
    },
    {
     "name": "stdout",
     "output_type": "stream",
     "text": [
      "0.6175\n"
     ]
    },
    {
     "name": "stderr",
     "output_type": "stream",
     "text": [
      "100%|██████████| 400/400 [00:14<00:00, 27.24it/s]"
     ]
    },
    {
     "name": "stdout",
     "output_type": "stream",
     "text": [
      "0.5725\n"
     ]
    },
    {
     "name": "stderr",
     "output_type": "stream",
     "text": [
      "\n"
     ]
    }
   ],
   "source": [
    "# 训练集正确率\n",
    "from tqdm import tqdm\n",
    "\n",
    "correct = 0\n",
    "for i in tqdm(range(len(mydb[\"train\"]))):\n",
    "    if mydb[\"train\"][i][\"label\"] == label2id[inference_function(mydb[\"train\"][i])]:\n",
    "        correct += 1\n",
    "print(correct / len(mydb[\"train\"]))\n",
    "\n",
    "correct = 0\n",
    "for i in tqdm(range(len(mydb[\"val\"]))):\n",
    "    if mydb[\"val\"][i][\"label\"] == label2id[inference_function(mydb[\"val\"][i])]:\n",
    "        correct += 1\n",
    "print(correct / len(mydb[\"val\"]))"
   ]
  },
  {
   "cell_type": "markdown",
   "metadata": {},
   "source": [
    "## 消融实验"
   ]
  },
  {
   "cell_type": "markdown",
   "metadata": {},
   "source": [
    "### 仅图像"
   ]
  },
  {
   "cell_type": "code",
   "execution_count": 71,
   "metadata": {},
   "outputs": [
    {
     "name": "stderr",
     "output_type": "stream",
     "text": [
      "  0%|          | 0/3600 [00:00<?, ?it/s]"
     ]
    },
    {
     "name": "stderr",
     "output_type": "stream",
     "text": [
      "100%|██████████| 3600/3600 [02:09<00:00, 27.81it/s]\n"
     ]
    },
    {
     "name": "stdout",
     "output_type": "stream",
     "text": [
      "0.6133333333333333\n"
     ]
    },
    {
     "name": "stderr",
     "output_type": "stream",
     "text": [
      "100%|██████████| 400/400 [00:14<00:00, 27.75it/s]"
     ]
    },
    {
     "name": "stdout",
     "output_type": "stream",
     "text": [
      "0.5625\n"
     ]
    },
    {
     "name": "stderr",
     "output_type": "stream",
     "text": [
      "\n"
     ]
    }
   ],
   "source": [
    "def inference_without_txt(examples):\n",
    "    images = Image.open(examples[\"path\"]).resize((224, 224))\n",
    "    # texts = examples[\"text\"]\n",
    "    texts = \"\"\n",
    "    encoding = processor(\n",
    "        images,\n",
    "        texts,\n",
    "        return_tensors=\"pt\",\n",
    "        padding=True,\n",
    "        truncation=True,\n",
    "    )\n",
    "    outputs = model(\n",
    "        input_ids=encoding.input_ids.to(device),\n",
    "        pixel_values=encoding.pixel_values.unsqueeze(0).to(device),\n",
    "    )\n",
    "    logits = outputs.logits\n",
    "    idx = logits.argmax(-1).item()\n",
    "    # print(\"Predicted answer:\", model.config.id2label[idx])\n",
    "    return model.config.id2label[idx]\n",
    "\n",
    "\n",
    "# 训练集正确率\n",
    "from tqdm import tqdm\n",
    "\n",
    "correct = 0\n",
    "for i in tqdm(range(len(mydb[\"train\"]))):\n",
    "    if mydb[\"train\"][i][\"label\"] == label2id[inference_without_txt(mydb[\"train\"][i])]:\n",
    "        correct += 1\n",
    "print(correct / len(mydb[\"train\"]))\n",
    "\n",
    "correct = 0\n",
    "for i in tqdm(range(len(mydb[\"val\"]))):\n",
    "    if mydb[\"val\"][i][\"label\"] == label2id[inference_without_txt(mydb[\"val\"][i])]:\n",
    "        correct += 1\n",
    "print(correct / len(mydb[\"val\"]))"
   ]
  },
  {
   "cell_type": "markdown",
   "metadata": {},
   "source": [
    "### 仅文本"
   ]
  },
  {
   "cell_type": "code",
   "execution_count": 73,
   "metadata": {},
   "outputs": [
    {
     "name": "stderr",
     "output_type": "stream",
     "text": [
      "100%|██████████| 3600/3600 [01:44<00:00, 34.42it/s]\n"
     ]
    },
    {
     "name": "stdout",
     "output_type": "stream",
     "text": [
      "0.40444444444444444\n"
     ]
    },
    {
     "name": "stderr",
     "output_type": "stream",
     "text": [
      "100%|██████████| 400/400 [00:11<00:00, 34.61it/s]"
     ]
    },
    {
     "name": "stdout",
     "output_type": "stream",
     "text": [
      "0.3825\n"
     ]
    },
    {
     "name": "stderr",
     "output_type": "stream",
     "text": [
      "\n"
     ]
    }
   ],
   "source": [
    "def inference_without_img(examples):\n",
    "    # images = Image.open(examples[\"path\"]).resize((224, 224))\n",
    "    images = Image.fromarray(np.full((224, 224, 3), 255, dtype=np.uint8))\n",
    "    texts = examples[\"text\"]\n",
    "    encoding = processor(\n",
    "        images,\n",
    "        texts,\n",
    "        return_tensors=\"pt\",\n",
    "        padding=True,\n",
    "        truncation=True,\n",
    "    )\n",
    "    outputs = model(\n",
    "        input_ids=encoding.input_ids.to(device),\n",
    "        pixel_values=encoding.pixel_values.unsqueeze(0).to(device),\n",
    "    )\n",
    "    logits = outputs.logits\n",
    "    idx = logits.argmax(-1).item()\n",
    "    # print(\"Predicted answer:\", model.config.id2label[idx])\n",
    "    return model.config.id2label[idx]\n",
    "\n",
    "\n",
    "# 训练集正确率\n",
    "from tqdm import tqdm\n",
    "\n",
    "correct = 0\n",
    "for i in tqdm(range(len(mydb[\"train\"]))):\n",
    "    if mydb[\"train\"][i][\"label\"] == label2id[inference_without_img(mydb[\"train\"][i])]:\n",
    "        correct += 1\n",
    "print(correct / len(mydb[\"train\"]))\n",
    "\n",
    "correct = 0\n",
    "for i in tqdm(range(len(mydb[\"val\"]))):\n",
    "    if mydb[\"val\"][i][\"label\"] == label2id[inference_without_img(mydb[\"val\"][i])]:\n",
    "        correct += 1\n",
    "print(correct / len(mydb[\"val\"]))"
   ]
  },
  {
   "cell_type": "markdown",
   "metadata": {},
   "source": [
    "## 输出测试结果"
   ]
  },
  {
   "cell_type": "code",
   "execution_count": 49,
   "metadata": {},
   "outputs": [
    {
     "name": "stderr",
     "output_type": "stream",
     "text": [
      "huggingface/tokenizers: The current process just got forked, after parallelism has already been used. Disabling parallelism to avoid deadlocks...\n",
      "To disable this warning, you can either:\n",
      "\t- Avoid using `tokenizers` before the fork if possible\n",
      "\t- Explicitly set the environment variable TOKENIZERS_PARALLELISM=(true | false)\n",
      "huggingface/tokenizers: The current process just got forked, after parallelism has already been used. Disabling parallelism to avoid deadlocks...\n",
      "To disable this warning, you can either:\n",
      "\t- Avoid using `tokenizers` before the fork if possible\n",
      "\t- Explicitly set the environment variable TOKENIZERS_PARALLELISM=(true | false)\n"
     ]
    }
   ],
   "source": [
    "!cp test_without_label.txt test_with_label.txt"
   ]
  },
  {
   "cell_type": "code",
   "execution_count": 51,
   "metadata": {},
   "outputs": [
    {
     "name": "stdout",
     "output_type": "stream",
     "text": [
      "[{'id': '8', 'text': 'Energetic training today with our San Antonio New Dollars/New Partners trainees ', 'label': None, 'path': 'data/8.jpg'}, {'id': '1576', 'text': 'Let your voice be heard! 18+ #endsuicide #blithe #selfharm #thinspo #bonespo #edo #hurt #cut ', 'label': None, 'path': 'data/1576.jpg'}, {'id': '2320', 'text': \"RT @Austin_Powers__: Shark Week would be so much better if the sharks had laser beams attached to their frickin' heads. \", 'label': None, 'path': 'data/2320.jpg'}, {'id': '4912', 'text': '#TheTruthCaster http://t.co/S8jvqpKq5h', 'label': None, 'path': 'data/4912.jpg'}, {'id': '3821', 'text': \"RT @jarpad: Hey #WBSDCC look what we're up to!!!! @JensenAckles @paulwesley @iansomerhalder \", 'label': None, 'path': 'data/3821.jpg'}, {'id': '1306', 'text': '@CogTn: How do we get fresh oil? Separate the flesh from the SEED!#crushed @bryancutshall ', 'label': None, 'path': 'data/1306.jpg'}, {'id': '4555', 'text': \"RT @DailyMailCeleb: Little Mix's Jesy has been showing off her engagement ring ? http://t.co/awZnuVyjDc http://t.co/YPDUXrrhgA\", 'label': None, 'path': 'data/4555.jpg'}, {'id': '259', 'text': '@bexmader recently I got a #wicked t-shirt! ? you like it? ? ', 'label': None, 'path': 'data/259.jpg'}, {'id': '3216', 'text': 'Absolute loml', 'label': None, 'path': 'data/3216.jpg'}, {'id': '881', 'text': '#Grim band logo of the day: Sabbat ', 'label': None, 'path': 'data/881.jpg'}, {'id': '1037', 'text': 'New #drawing #illustration #art #epic @2DArtbot #pen on #paper #awesome #strong #woman #girl #creativity #happy :3 ', 'label': None, 'path': 'data/1037.jpg'}, {'id': '2463', 'text': 'RT @MrCocoyam: So my homeboy just got his heart broken ', 'label': None, 'path': 'data/2463.jpg'}, {'id': '3760', 'text': 'Outdoor rehearsing is always fun hot pole podium & wobbly poles. @rockandbikefest are you ready to be Thunderstruck? ', 'label': None, 'path': 'data/3760.jpg'}, {'id': '3102', 'text': 'New review up on my blog of An Imperfect Princess by Catherine Blakeney! ', 'label': None, 'path': 'data/3102.jpg'}, {'id': '4074', 'text': 'This is a great quote. Dragons can be beaten! http://t.co/LFNcLzaIqs http://t.co/W7aPkoeqaj', 'label': None, 'path': 'data/4074.jpg'}, {'id': '2155', 'text': 'RT @billoberstjr: With the great @SuzeLanier at #EgyptianTheatre in Hollywood. Her new film #Cut is getting buzz htt¡\\xad ', 'label': None, 'path': 'data/2155.jpg'}, {'id': '5009', 'text': 'RT @ALLCAPSMARVEL: overjoyed - bastille http://t.co/Sp6ci4Zdwh', 'label': None, 'path': 'data/5009.jpg'}, {'id': '3292', 'text': 'RT @metrotoronto: Shooting victim Lecent Ross remembered as vibrant', 'label': None, 'path': 'data/3292.jpg'}, {'id': '3599', 'text': 'EUC! Banana Republic Ruffle V Neck Button Down Cardigan Gray Small Beautiful $70 ', 'label': None, 'path': 'data/3599.jpg'}, {'id': '1061', 'text': '#winter #northumberland #February #bleak #frozen #landscape #view #cloud #sun #frost #snow #dramaticsky #sky #storm¡\\xad ', 'label': None, 'path': 'data/1061.jpg'}, {'id': '3927', 'text': 'RT @Nunastic: Worshipful rabbits at Longthorpe Tower #BAAPboro #BAA2015 ', 'label': None, 'path': 'data/3927.jpg'}, {'id': '4461', 'text': 'New York Giants Adult XXL Distressed-Style Zippered hooded jacket. http://t.co/EWaW0RJROW http://t.co/rDwl8dQlEs', 'label': None, 'path': 'data/4461.jpg'}, {'id': '716', 'text': 'RT @terrellcwoods: Early run to @GrandCentralMkt. Really dig this place. Hoping the #springarcade can be as vibrant soon #mydayinla ', 'label': None, 'path': 'data/716.jpg'}, {'id': '2505', 'text': \"I could easily move into one of these houseboats in Victoria's Fisherman's Wharf. So bright and cheerful! \", 'label': None, 'path': 'data/2505.jpg'}, {'id': '1803', 'text': '#Extremely #Proud #Delighted #ScottishBand #BreakTheButterfly #HardRockRising #HardRockEdinburgh votes still coming ', 'label': None, 'path': 'data/1803.jpg'}, {'id': '2157', 'text': 'RT @Weather_West: Remarkable', 'label': None, 'path': 'data/2157.jpg'}, {'id': '1612', 'text': 'RT @SelinaAlko: THE CASE FOR LOVING is a Junior Library Guild selection! #overjoyed @sean_qualls ', 'label': None, 'path': 'data/1612.jpg'}, {'id': '4052', 'text': '-De vita Beatae Mariae Magdalenae http://t.co/qL5QkOLhcF', 'label': None, 'path': 'data/4052.jpg'}, {'id': '3641', 'text': 'RT @artintheage: Sunny days & a SNAP Mint Lemonade: 1 part SNAP to 3 parts sparkling lemonade. Garnish with mint. Cheers! ', 'label': None, 'path': 'data/3641.jpg'}, {'id': '5097', 'text': '  #FanArmyFaceOff #Directioners http://t¡\\xad', 'label': None, 'path': 'data/5097.jpg'}, {'id': '2358', 'text': 'RT @BrionnaLondon: I hope my roommate cool cause this me every morning getting ready for class ? ', 'label': None, 'path': 'data/2358.jpg'}, {'id': '349', 'text': \"Daughter is infuriated by her father's wrong lyrics to 'Frozen': \", 'label': None, 'path': 'data/349.jpg'}, {'id': '4710', 'text': 'RT @DailyESSEX: #Essex: Housing campaigners fuming after protest placards are stolen from gardens http://t.co/coFV5e3GQR http://t.co/deqXu1¡\\xad', 'label': None, 'path': 'data/4710.jpg'}, {'id': '2991', 'text': \"RT @BarnhillKohlkkq: Fast and Furious won't be the same without you #TeamPW #RIPPaulWalker \", 'label': None, 'path': 'data/2991.jpg'}, {'id': '459', 'text': 'Rough night #black eye #beaten #fxmakeup ', 'label': None, 'path': 'data/459.jpg'}, {'id': '1737', 'text': 'WE STILL AT IT D/L THE #outcAst EP HERE ', 'label': None, 'path': 'data/1737.jpg'}, {'id': '1993', 'text': 'You dont need too many friends to be happy', 'label': None, 'path': 'data/1993.jpg'}, {'id': '116', 'text': '#Broadway #Play \"#Disgraced\" #Pulitzer #Prize #Winner by #AmirKapoor. #NYC #TimesSquare #NewYork #Manhattan #Theater ', 'label': None, 'path': 'data/116.jpg'}, {'id': '2949', 'text': \"Great to meet @LucyBronze. Our hero! And we do not support B'ham! Sophie got flustered and messed her lines haha \", 'label': None, 'path': 'data/2949.jpg'}, {'id': '2792', 'text': \"RT @SimonNRicketts: Lewis Hamilton's empty seat at Wimbledon after he was turned away. (Story: \", 'label': None, 'path': 'data/2792.jpg'}, {'id': '1580', 'text': '@DayanNajar feeling so #inlove', 'label': None, 'path': 'data/1580.jpg'}, {'id': '2021', 'text': '??CORAL ENHANCEMENT?? Want The SPARKLING 7/1 MAN UTD To Beat Preston (While It Lasts)? ', 'label': None, 'path': 'data/2021.jpg'}, {'id': '4843', 'text': 'RT @leatherfaceword: @JenJenisha i am not gonna kill you... I am gonna hurt you really really bad ?? http://t.co/4wO6iRpdb5', 'label': None, 'path': 'data/4843.jpg'}, {'id': '4827', 'text': 'RT @nationaljournal: Supreme Court term limits are popular', 'label': None, 'path': 'data/4827.jpg'}, {'id': '3119', 'text': 'New Deal #6701 HP 6530b Incomplete Laptop Notebook Intel 2.53GHz Core 2 Duo CPU 3GB RAM NO¡\\xad ', 'label': None, 'path': 'data/3119.jpg'}, {'id': '3298', 'text': \"RT @TheDSWF: Much maligned - Africa's most endangered carnivore. Find out more & donate to help them \", 'label': None, 'path': 'data/3298.jpg'}, {'id': '4541', 'text': 'RT @cuphaek: \"donghae why is the cookie jar empty?\" http://t.co/po7WkIknOg', 'label': None, 'path': 'data/4541.jpg'}, {'id': '1952', 'text': 'Bridges Burned (Entangled Teen) (G¡\\xad ', 'label': None, 'path': 'data/1952.jpg'}, {'id': '1839', 'text': 'RT @voodumamajuju: Barren waste land ', 'label': None, 'path': 'data/1839.jpg'}, {'id': '2127', 'text': 'RT @fangirlwhowaits: @heatworld @Anythingbatch so please', 'label': None, 'path': 'data/2127.jpg'}, {'id': '3872', 'text': 'RT @GameOverGreggy: Just met Batman Beyond @willfriedle. Glad washed-up Batman Unlimited @RogerCraigSmith was there to ruin it. ', 'label': None, 'path': 'data/3872.jpg'}, {'id': '3023', 'text': 'RT @kamrsa1: Just 4 days remaining take the duaa from your mother because your mother duaa can bless the happiness and more ', 'label': None, 'path': 'data/3023.jpg'}, {'id': '2351', 'text': \"@GabbyLogan my son aged 12 born Down Syndrome and beaten Cancer twice took these photos he's amazing. \", 'label': None, 'path': 'data/2351.jpg'}, {'id': '4507', 'text': 'GM Ruston Webster talks Mariota signing: http://t.co/7jkuFc0HGA http://t.co/cbJ¡\\xad', 'label': None, 'path': 'data/4507.jpg'}, {'id': '600', 'text': ' drink water whenever you think of food #empty #oops ', 'label': None, 'path': 'data/600.jpg'}, {'id': '1516', 'text': \"If you're curious of barker cypress #wrecked \", 'label': None, 'path': 'data/1516.jpg'}, {'id': '4601', 'text': '#FailedGOPLeaders 202-224-3121', 'label': None, 'path': 'data/4601.jpg'}, {'id': '1046', 'text': 'RT @ChaosChloe: #Chaotic Mind!! That was really heart felt. Thank u @SPARCEO ', 'label': None, 'path': 'data/1046.jpg'}, {'id': '1227', 'text': 'Wedding photo bomb courtesy of random old man #stunned ', 'label': None, 'path': 'data/1227.jpg'}, {'id': '4378', 'text': 'http://t.co/SiqBd7SSHN http://t.co/PbnuVINxs1', 'label': None, 'path': 'data/4378.jpg'}, {'id': '4357', 'text': \"RT @TheWeirdWorld: If you think depression isn't real... http://t.co/AmviyBx9Kp\", 'label': None, 'path': 'data/4357.jpg'}, {'id': '4094', 'text': 'RT @acya_5: ³öÀ´¤ì¤Ð2Î»?¤È¤«ÑÔ¤Ã¤Æ¤¿¤Î¤Ç¤¹¤¬¡¢¤É¤³¤Î¥®¥ë¥É¤µ¤ó¤âÒ¹¤¬»î°k¤Ç¡¢¤½¤ó¤Ê¼\\x9a¤«¤¤Õ{Õû\\x9foÀí¥²©`È«Á¦Í¶Çò¤Ç¤·¤¿??(?^¦Ø^?)??¤Þ¤¡¡¢ÆæÛEµÄ¤Ë6ÈË¥é¥¹¥¢¥¿¥ß¥¹¤È¤¤¤¦´ó¥Á¥ç¥ó¥Ü¤·¤Æ2Î»¤Ç¤·¤¿¡£Ó\\x8b»\\xadÍ¨¤ê(   ¨B-¨B   ) http://t.co/haDnb¡\\xad', 'label': None, 'path': 'data/4094.jpg'}, {'id': '5027', 'text': 'Paralyzed?_? http://t.co/xLLOSfoKMF', 'label': None, 'path': 'data/5027.jpg'}, {'id': '1969', 'text': 'RT @Citi973: My encounter at Ghana¡¯s ¡®chaotic¡¯ passport office- @UmaruSanda |See more here: #CitiNews ', 'label': None, 'path': 'data/1969.jpg'}, {'id': '4754', 'text': 'Ò¹Ê³¤Î¥Ê¥ó http://t.co/WVws6BSpdy', 'label': None, 'path': 'data/4754.jpg'}, {'id': '861', 'text': '#AsILayDying #Forsaken #Music - We found \"As I Lay Dying\" - \"Forsaken\" for #free on audiom¡\\xad ', 'label': None, 'path': 'data/861.jpg'}, {'id': '136', 'text': \"RT @AnglinChanel: yu haven't lived til' you've chewed\", 'label': None, 'path': 'data/136.jpg'}, {'id': '4466', 'text': 'BEAUTY DAILY DEALS : http://t.co/JoJzMBzAMQ #8173 Nike The Eyes Lead The Body Eyeglass Storage Case \"Distressed\" ¡\\xad http://t.co/Ysr1JbC8Ul', 'label': None, 'path': 'data/4466.jpg'}, {'id': '4916', 'text': 'RT foxaustin \"State officials: Texas Gov. Abbott\\'s vetoes may be invalid http://t.co/Bawgq5xqQa #FOX7Austin http://t.co/8rJ3OF5JfT\"', 'label': None, 'path': 'data/4916.jpg'}, {'id': '1025', 'text': 'RT @AstroTerry: #speechless from this #sunrise ', 'label': None, 'path': 'data/1025.jpg'}, {'id': '4922', 'text': 'Transpo Chair discusses connecting isolated comms w pub trans that imprv mobility but also tourism potential #NYmoves http://t.co/bnlK0PzXPN', 'label': None, 'path': 'data/4922.jpg'}, {'id': '1233', 'text': '#Time #approaches ¡ú 0 ¡û #and #thrilled #good !! ', 'label': None, 'path': 'data/1233.jpg'}, {'id': '1173', 'text': 'Wild Photo: #Bleeding #Heart #Baboons ', 'label': None, 'path': 'data/1173.jpg'}, {'id': '532', 'text': '#WhyImSingle @justinbieber ruined my life. But in the best way possible ? ', 'label': None, 'path': 'data/532.jpg'}, {'id': '51', 'text': \"Martha said for Valentine's Day she wanted a heart shaped pancake for lunch. Being the doting husband I am¡\\xad \", 'label': None, 'path': 'data/51.jpg'}, {'id': '3008', 'text': 'New of Steam on Ebay Grim Legends 2: Song of the Dark Swan Steam Key ', 'label': None, 'path': 'data/3008.jpg'}, {'id': '1578', 'text': '? and I thought this was going to be a good day #hurt #JohnnyCash #sadturnup ', 'label': None, 'path': 'data/1578.jpg'}, {'id': '4945', 'text': 'RT @kankore_erogazo: C85ÐÂ¿¯¡¢ http://t.co/2aOn3luE6t http://t.co/0VNHDSqLY7', 'label': None, 'path': 'data/4945.jpg'}, {'id': '2572', 'text': 'Marca | Casemiro will cut his holidays short and join Real Madrid sooner than expected. #HalaMadrid ', 'label': None, 'path': 'data/2572.jpg'}, {'id': '173', 'text': 'New kicks from @tenniswarehouse #delighted ', 'label': None, 'path': 'data/173.jpg'}, {'id': '3439', 'text': 'RT @ArianaGrande: pouty but overjoyed I swear ?? ', 'label': None, 'path': 'data/3439.jpg'}, {'id': '755', 'text': 'Wet n Wild Mega Last Matte Lipstick DollHouse Pink 967 Lip Color Ships Fast! ', 'label': None, 'path': 'data/755.jpg'}, {'id': '2918', 'text': \"RT @ZozeeBo: #SUGGMONDAY instead of #SUGGSUNDAY this week. Been in bed all day with lady-womb-pain so video isn't finished. DIS ME \", 'label': None, 'path': 'data/2918.jpg'}, {'id': '1417', 'text': 'RT @Mummydee23: Worship my feet you #pathetic #worthless #footboys get and lick the dirt and sweat off my #dirty #Soles #footfetish ', 'label': None, 'path': 'data/1417.jpg'}, {'id': '3152', 'text': 'I just rescued Karma in #BestFiends - Download FREE - via @bestfiends ', 'label': None, 'path': 'data/3152.jpg'}, {'id': '121', 'text': \"@Melissa_Landers look what came in the mail today. I'm so excited to get started. Yay. #alienated \", 'label': None, 'path': 'data/121.jpg'}, {'id': '780', 'text': 'My stoner Stepdad installed a new porch light for me. Notice anything wrong? ', 'label': None, 'path': 'data/780.jpg'}, {'id': '4319', 'text': \"RT @Apostleshipsea: We're delighted to be part of the #BigWelfareDebate at #LISW15 http://t.co/eg6eSJaN7E @LISW15 #seafarers http://t.co/3h¡\\xad\", 'label': None, 'path': 'data/4319.jpg'}, {'id': '1191', 'text': \"#fishing #Willow #Strike #Spinnerbait #Colorado #Bleeding Love the 'bleeding' red idea and¡\\xad \", 'label': None, 'path': 'data/1191.jpg'}, {'id': '1573', 'text': '#Horrified #BMovie #Victims #Playset #Swagshop ', 'label': None, 'path': 'data/1573.jpg'}, {'id': '1406', 'text': '#RT @vjalabert 5 Ways to Embed Your Organization With a #Culture of #Happiness via TLNT_com ', 'label': None, 'path': 'data/1406.jpg'}, {'id': '3955', 'text': 'RT @Shyannaxx: When you realize you spelled something wrong in your tweet a day after it was posted @TaniseMarkia143 ', 'label': None, 'path': 'data/3955.jpg'}, {'id': '2904', 'text': 'RT @YouChoices: Would you rather? ', 'label': None, 'path': 'data/2904.jpg'}, {'id': '2721', 'text': 'Why are you feeling dispirited? Take the quiz: ', 'label': None, 'path': 'data/2721.jpg'}, {'id': '58', 'text': \"RT @MyDreamBiggest: @AndreaNavedo Jane's baby not even born and Xo is already drooling he ... It's going to be a doting grandmother. ?? htt¡\\xad \", 'label': None, 'path': 'data/58.jpg'}, {'id': '3149', 'text': 'RT @sillyharry: i lost my sneakers in Israel so now i have to use my grandmas :) ', 'label': None, 'path': 'data/3149.jpg'}, {'id': '3690', 'text': \"I'm playing @pixtaword and I'm stumped with this one\", 'label': None, 'path': 'data/3690.jpg'}, {'id': '3243', 'text': 'Birthday fruit cake! And on her left .... ', 'label': None, 'path': 'data/3243.jpg'}, {'id': '3476', 'text': 'Dazed', 'label': None, 'path': 'data/3476.jpg'}, {'id': '1393', 'text': 'Todays premiere is sold out! Pulitzer Prize winner #Disgraced by Ayad Akhtar! ', 'label': None, 'path': 'data/1393.jpg'}, {'id': '3362', 'text': 'I once got mistaken for Josh Todd of Buck Cherry ? ', 'label': None, 'path': 'data/3362.jpg'}, {'id': '1552', 'text': 'Kung maging tayo', 'label': None, 'path': 'data/1552.jpg'}, {'id': '2348', 'text': 'RT @bdnews24: \"Congratulations Bangladesh Tigers. They have beaten Pak', 'label': None, 'path': 'data/2348.jpg'}, {'id': '1863', 'text': 'Dont be bitter today be better ??? ', 'label': None, 'path': 'data/1863.jpg'}, {'id': '3003', 'text': \"RT @CNN: 'Minions' grabs second-biggest U.S. animated opening ever \", 'label': None, 'path': 'data/3003.jpg'}, {'id': '1949', 'text': 'Nada de novo. Tudo j¨¢ foi visto muito por a¨ª. Mas ainda t?o atual. Adoro?? #valentino #shoes #destroyed #jeans #de¡\\xad ', 'label': None, 'path': 'data/1949.jpg'}, {'id': '2137', 'text': 'Devoted to your sweetie? Show your commitment with a New Mod or Manufactured Home! #ShareTheLove @GoVillageHomes.com ', 'label': None, 'path': 'data/2137.jpg'}, {'id': '4500', 'text': 'ef-a tale of melodise¡ºebullient future£¨Japanese£©¡»  e6\" http://t.co/FnuwiZ9H5q', 'label': None, 'path': 'data/4500.jpg'}, {'id': '2823', 'text': 'Co-Parenting Guidelines for Estranged Couple | Iyanla: Fix My Life | ... - #howto #how ', 'label': None, 'path': 'data/2823.jpg'}, {'id': '1021', 'text': '#SPEECHLESS. Deah & Yusor were just married in December. #ChapelHillShooting ', 'label': None, 'path': 'data/1021.jpg'}, {'id': '3103', 'text': 'For any other Imperfect Parents - want to forgive yourself and join my club? ', 'label': None, 'path': 'data/3103.jpg'}, {'id': '4981', 'text': 'RT @tanutinn: Japan PM mocked on Internet over model explanation http://t.co/xudJ7DM4yr http://t.co/H1Pi371U9E', 'label': None, 'path': 'data/4981.jpg'}, {'id': '3110', 'text': 'RT @pokellosexxy: Life has taught me that a person with no self Respect is incapable of respecting Others! ', 'label': None, 'path': 'data/3110.jpg'}, {'id': '824', 'text': \"RT @laurentbaheux: Cheetah's Eyes\", 'label': None, 'path': 'data/824.jpg'}, {'id': '1999', 'text': \"Valentine's isn't really about the fancy surprises\", 'label': None, 'path': 'data/1999.jpg'}, {'id': '1769', 'text': 'RT @HorrifyingPage: Found in an abandoned building. ', 'label': None, 'path': 'data/1769.jpg'}, {'id': '4038', 'text': 'RT @haaretzcom: American Jews frustrated', 'label': None, 'path': 'data/4038.jpg'}, {'id': '2499', 'text': 'RT @BadgerBalmUK: Beat #midweek blues & #win Badger Cheerful Mind Balm. RT & follow @BadgerBalmsUK to enter. UK only Closes 12/07/2015. htt¡\\xad ', 'label': None, 'path': 'data/2499.jpg'}, {'id': '4287', 'text': 'RT @fIowerhun: i love how exo can be a double million seller but cant cut cake http://t.co/mF3w3Z5oni', 'label': None, 'path': 'data/4287.jpg'}, {'id': '4913', 'text': 'RT @DarthVadersBack: Harry Potter dressed as Boba Fett', 'label': None, 'path': 'data/4913.jpg'}, {'id': '3181', 'text': 'With temperatures around 90 and the humidity the result is the heat index below. Take it slow with the intense heat. ', 'label': None, 'path': 'data/3181.jpg'}, {'id': '4578', 'text': '@CampInvention They are having SO MUCH FUN!  I love how enthusiastic they are when I pick them up each day! http://t.co/jGeWRQFAy8', 'label': None, 'path': 'data/4578.jpg'}, {'id': '1446', 'text': 'RT @Vanessa62114: Hey @Chobani where are all the toppings?? I was so looking forward to having my favorite yogurt! #empty #disappointed htt¡\\xad ', 'label': None, 'path': 'data/1446.jpg'}, {'id': '1269', 'text': \"honest image of a #violent #vengeful #needy #god ... #jesuischarlie #image _it's all about #perspective & #intention. \", 'label': None, 'path': 'data/1269.jpg'}, {'id': '2803', 'text': \"RT @Trailmixnarry: He's like an energetic five year old I love him so much \", 'label': None, 'path': 'data/2803.jpg'}, {'id': '1099', 'text': '@missuniversechina 2013 Jin Ye makes¡\\xad ', 'label': None, 'path': 'data/1099.jpg'}, {'id': '96', 'text': 'Picture Frame #Distressed Red Black #Sentiment How Sweet It Is To Be #Loved By You #etsy ', 'label': None, 'path': 'data/96.jpg'}, {'id': '749', 'text': 'RT @MagicLolitaxo: When you wake up and realize your life in Georgia is the most boring thing ever compared to @gordon_wild ', 'label': None, 'path': 'data/749.jpg'}, {'id': '489', 'text': 'Cop Charged With Assault After Man Left Paralyzed ', 'label': None, 'path': 'data/489.jpg'}, {'id': '3464', 'text': 'RT @Paradoxy13: It seems the partial collapse of Aleppo Citadel wall was caused by regime bombing of a rebel tunnel', 'label': None, 'path': 'data/3464.jpg'}, {'id': '4910', 'text': 'Antique WW1 Porcelain China Field Hospital Invalid Feeding Cup Red Cross Allied http://t.co/OPH0Yd0H4X? http://t.co/LqosTf5DTK', 'label': None, 'path': 'data/4910.jpg'}, {'id': '5000', 'text': '? http://t.co/6poORp0o7u', 'label': None, 'path': 'data/5000.jpg'}, {'id': '2717', 'text': 'Why are you feeling dispirited? Take the quiz: ', 'label': None, 'path': 'data/2717.jpg'}, {'id': '939', 'text': '@rjfapelacio nanggahot. Haha. :P #euro #impotent ', 'label': None, 'path': 'data/939.jpg'}, {'id': '4944', 'text': 'MAROONED BY TESLA! FIRES', 'label': None, 'path': 'data/4944.jpg'}, {'id': '4560', 'text': 'RT @BlackAurora_: My #drugs ??? http://t.co/mnUTa2ymlt', 'label': None, 'path': 'data/4560.jpg'}, {'id': '4471', 'text': 'Why do you get distressed so much? Take the quiz: http://t.co/csgAT6GyIZ http://t.co/wubmj6r2nZ', 'label': None, 'path': 'data/4471.jpg'}, {'id': '313', 'text': 'Another @DaveMoran89 penalty flies past a helpless goalie (after bouncing twice) 3 out of 3 for him now #letissier ', 'label': None, 'path': 'data/313.jpg'}, {'id': '3002', 'text': \"RT @Amber_Montana: California's gloomy weather got me like https://t.co/DDaxSDGyUb \", 'label': None, 'path': 'data/3002.jpg'}, {'id': '204', 'text': '(with a slight bit of fear) ', 'label': None, 'path': 'data/204.jpg'}, {'id': '4082', 'text': 'http://t.co/5fsXX9xTeV http://t.co/¡\\xad', 'label': None, 'path': 'data/4082.jpg'}, {'id': '960', 'text': 'RT @FriendsElderly: Loneliness is as big a risk to health as smoking. Help end #loneliness. Text BE A FRIEND to 70300 to donate ?3 ', 'label': None, 'path': 'data/960.jpg'}, {'id': '740', 'text': '@zaynmalik: Wicked day yesterday :) xx delete \\n', 'label': None, 'path': 'data/740.jpg'}, {'id': '31', 'text': '@ipaca_official @NTChoir great valentines treat singing all day with fellow enthusiastic teachers :-) ', 'label': None, 'path': 'data/31.jpg'}, {'id': '3324', 'text': 'The State of the Comic Book Medium, a recent podcast from mit_cmsw: #comics ', 'label': None, 'path': 'data/3324.jpg'}, {'id': '264', 'text': 'RT @boredpanda: Gloomy Watercolor Cats Slowly Bleeding Into The Paper (12 pics): #watercolorpainting #cats ', 'label': None, 'path': 'data/264.jpg'}, {'id': '1922', 'text': 'RT @DanielleDonnely: hardly see me was TOO DARK! at the Red Carpet BFI Film vest', 'label': None, 'path': 'data/1922.jpg'}, {'id': '3424', 'text': 'Trailers For Robert Kirkman¡¯s Possession Series ¡°Outcast¡±! #SDCC ', 'label': None, 'path': 'data/3424.jpg'}, {'id': '1192', 'text': 'by youngwildanfree160 \"On vit mieux lorsque l\\'on attend rien de personne.\" #coup #de #blues #mal #moral #a #zero #I¡\\xad ', 'label': None, 'path': 'data/1192.jpg'}, {'id': '4603', 'text': 'RT @tobe_tobi: http://t.co/TileyCS31W', 'label': None, 'path': 'data/4603.jpg'}, {'id': '570', 'text': 'Sissy made me oreo-filled pancakes!!!! Fattening but who could say no to these sinful indulgence??? Ehe ', 'label': None, 'path': 'data/570.jpg'}, {'id': '2668', 'text': 'RT @VoiceBosnia: A Spanish U.N. soldier in a destroyed street of Mostar', 'label': None, 'path': 'data/2668.jpg'}, {'id': '1645', 'text': '#LiveFromCzm by Photo by @karenzetina Lista para el baile?? #sobrina #carnaval #happy #enjoy #goodtime #cozumel #In¡\\xad ', 'label': None, 'path': 'data/1645.jpg'}, {'id': '3271', 'text': 'art by Cody Rocko http:¡\\xad ', 'label': None, 'path': 'data/3271.jpg'}, {'id': '89', 'text': 'Ecstatic to be holding the first print copy of Wind In Your Sails. #biz #author ', 'label': None, 'path': 'data/89.jpg'}, {'id': '3975', 'text': 'Auth. Chanel light Beige Caviar Leather Zippy Long Wallet ~ Picts in the Descrp. - Full re¡\\xad ', 'label': None, 'path': 'data/3975.jpg'}, {'id': '3397', 'text': 'RT @Xbox: RT for a chance to win a @GearsofWar #XboxOne. #XboxSweepstakes #SDCC Rules ', 'label': None, 'path': 'data/3397.jpg'}, {'id': '3638', 'text': '#5783 SK-II Color Clear Beauty Eye Shadow EYESHADOW 11 Sparkling NIB Japan ', 'label': None, 'path': 'data/3638.jpg'}, {'id': '1228', 'text': '@Plowin_Donny Am I now? *Maribelle was taken aback', 'label': None, 'path': 'data/1228.jpg'}, {'id': '2744', 'text': 'RT @Allan_Galeano: Hey @TimGettys', 'label': None, 'path': 'data/2744.jpg'}, {'id': '4545', 'text': 'RT @LouiseArnold5: @SDDC if the bin men only empty half your bin-does that mean I only have to pay half my council tax! @DarrenArnold76 htt¡\\xad', 'label': None, 'path': 'data/4545.jpg'}, {'id': '730', 'text': 'RT @oldpicsarchive: WW1 submarine with a hull number of U-118 was found washed ashore on the beach at Hastings', 'label': None, 'path': 'data/730.jpg'}, {'id': '2958', 'text': 'Hummus tahina @sweetgreen ', 'label': None, 'path': 'data/2958.jpg'}, {'id': '1717', 'text': \"#earrings #Silver #Round #Medium #Cubic I really love these hoops. Haven't taken them off ¡\\xad \", 'label': None, 'path': 'data/1717.jpg'}, {'id': '1324', 'text': \"Thank you @WedFlowersMag for featuring Sally' designs in your March/April issue #delighted ? \", 'label': None, 'path': 'data/1324.jpg'}, {'id': '4312', 'text': 'RT @LanzaroteWorks: Delighted to present @grasshouseuk at @WaitingRoomN16 for a three night residency! https://t.co/tMjWHhiTP2 http://t.co/¡\\xad', 'label': None, 'path': 'data/4312.jpg'}, {'id': '3374', 'text': 'RT @nnguerrero: Muy buena la historia de estos gemelos mezclados al nacer: The Mixed-Up Brothers of Bogot¨¢ ', 'label': None, 'path': 'data/3374.jpg'}, {'id': '4430', 'text': 'Zenith bank Chairman', 'label': None, 'path': 'data/4430.jpg'}, {'id': '3945', 'text': 'RT @Supreme_Tay: SHE REAL LIFE WRECKED THIS HO ', 'label': None, 'path': 'data/3945.jpg'}, {'id': '290', 'text': 'happy valentines day to me from me ?? ', 'label': None, 'path': 'data/290.jpg'}, {'id': '4061', 'text': '#BLF are kind of terrorists who cry loud after been beaten up by someone stronger thn em #AwaranBLFTerrorCampBusted http://t.co/XUZ0ZKBpjB', 'label': None, 'path': 'data/4061.jpg'}, {'id': '1168', 'text': 'This @MasterCard was one of my favs', 'label': None, 'path': 'data/1168.jpg'}, {'id': '1667', 'text': 'Before the #GRAMMYs check out @ImYoungChizz new debut #EP #Provoked now available on #iTunes https://t.co/TIJaE6SSiE ', 'label': None, 'path': 'data/1667.jpg'}, {'id': '3139', 'text': '@belalandry clarification for the culturally inept ', 'label': None, 'path': 'data/3139.jpg'}, {'id': '964', 'text': \"Is the suspense killing you? Cause I'm pretty fucking pumped #overjoyed \", 'label': None, 'path': 'data/964.jpg'}, {'id': '3495', 'text': '#¥¢¥¦¥Ç¥£TT ¤Î¥æ©`¥¶©`¤¬Ð´Õæ¤ò¥¢¥Ã¥×£¡ #auditt from instagram by ratty_tt ', 'label': None, 'path': 'data/3495.jpg'}, {'id': '932', 'text': '#abused #degraded #humiliated #humiliation #sm #hot #slave #sub - ', 'label': None, 'path': 'data/932.jpg'}, {'id': '4483', 'text': 'http://t.co/hmiVCMftC8 http://t.co/F6¡\\xad', 'label': None, 'path': 'data/4483.jpg'}, {'id': '3227', 'text': 'The Cliffs of Moher in Ireland are what the sentiment of lacking words is meant for. ', 'label': None, 'path': 'data/3227.jpg'}, {'id': '5108', 'text': 'WTF! Airline Passengers that DESERVE to be Shamed! http://t.co/mPKRMVWDKv http://t.co/ya2mXfgqTA', 'label': None, 'path': 'data/5108.jpg'}, {'id': '1931', 'text': '#pornstars #vintage #retro #pussy #licking #brunette #blowjob #wicked #xxxcom ', 'label': None, 'path': 'data/1931.jpg'}, {'id': '5040', 'text': 'Passionate when dancing', 'label': None, 'path': 'data/5040.jpg'}, {'id': '3174', 'text': 'RT @kikocosmeticsUK: Make your eyes pop with Miami Click Slick Eyeliner! A perfect', 'label': None, 'path': 'data/3174.jpg'}, {'id': '1381', 'text': 'Whaaaaa? #devastated ? RT @heatworld: Andrew Garfield dropped from Spider-Man films: ', 'label': None, 'path': 'data/1381.jpg'}, {'id': '2800', 'text': \"I remember how she's so energetic when she tell me what she's wanna buy\", 'label': None, 'path': 'data/2800.jpg'}, {'id': '4911', 'text': '@wasy_invalid §Ú §á§æ§Ü§è§ã§Ü§Ñ §Ù§Ñ§ß§Ö§ã ¨C §Ó§à§ä §Ó§Ö§Õ§î §Ô§Ñ§Õ! http://t.co/HCbj0djqsh', 'label': None, 'path': 'data/4911.jpg'}, {'id': '1768', 'text': 'Scary Abandoned Cities That Will Haunt Your Dreams ', 'label': None, 'path': 'data/1768.jpg'}, {'id': '4087', 'text': 'RT @OTreeHill: \"When you find yourself lost in the darkness of despair', 'label': None, 'path': 'data/4087.jpg'}, {'id': '1648', 'text': '#February #Winter #Rainy #Stormy #Windy #Tuesday #Night #Love #Happy #Positive #Passionate #Calm #Joy #Fun #Coffee??? ', 'label': None, 'path': 'data/1648.jpg'}, {'id': '3909', 'text': \"RT @TattedUpBreezy_: Bruhhhhh this my favorite episode of Wild N Out! Chico clowned Tf out of Safaree about meek and Nicki I'm dead ??? htt¡\\xad \", 'label': None, 'path': 'data/3909.jpg'}, {'id': '4348', 'text': \"RT @800273TALK: We're on @Pinterest! Follow us for tips and advice on anxiety\", 'label': None, 'path': 'data/4348.jpg'}, {'id': '3170', 'text': 'RT @Free_Media_Hub: 300', 'label': None, 'path': 'data/3170.jpg'}, {'id': '3774', 'text': \".@theipaper Pls sign petition 1000's of Puppies tortured too for noodles! #StopBoknal2015 \", 'label': None, 'path': 'data/3774.jpg'}, {'id': '3492', 'text': 'when old men pay attention to you ', 'label': None, 'path': 'data/3492.jpg'}, {'id': '1994', 'text': 'Cherishing Time by Vince Lusk ', 'label': None, 'path': 'data/1994.jpg'}, {'id': '2971', 'text': 'ANTIQUE rare FOND PETS children Cloth book 1918 Saalfield Pub. Akron Ohio nice ', 'label': None, 'path': 'data/2971.jpg'}, {'id': '5043', 'text': 'RT @PotterReacts: When your friend is petrified but you must get a cheeky photo http://t.co/FhEOsjIfzX', 'label': None, 'path': 'data/5043.jpg'}, {'id': '4552', 'text': 'Such an energetic group of dedicated teachers learning together @LoneStarTIA at 7:30 a.m in the summer. #tia15 http://t.co/kZOlHRhS8P', 'label': None, 'path': 'data/4552.jpg'}, {'id': '4372', 'text': 'RT @SkyUK: Desperate Housewives', 'label': None, 'path': 'data/4372.jpg'}, {'id': '1682', 'text': 'Blog Post: #VivaBianca #Scorned #NudeScene #ShowingAss #Fetish #TiedUp #PosingHot #Beautiful ', 'label': None, 'path': 'data/1682.jpg'}, {'id': '4046', 'text': 'In Argentina', 'label': None, 'path': 'data/4046.jpg'}, {'id': '4022', 'text': 'Top Shot: Roads Aglow http://t.co/4DmHJEaFC6 http://t.co/RSmwxjmJzs #photography', 'label': None, 'path': 'data/4022.jpg'}, {'id': '174', 'text': \"Damn @jes_chastain looks amazing and creepy. Can't wait to watch #CrimsonPeak I'm absolutely exhilarated \", 'label': None, 'path': 'data/174.jpg'}, {'id': '4387', 'text': \"@westmeathcoco Some people just don't care. Our Countryside is destroyed . http://t.co/ND0Nh4WLoW\", 'label': None, 'path': 'data/4387.jpg'}, {'id': '677', 'text': 'RT @LeakSnapchats: RT to help get the babies trapped in her knees out safely ', 'label': None, 'path': 'data/677.jpg'}, {'id': '1133', 'text': 'early valentines day gifts #whipped ', 'label': None, 'path': 'data/1133.jpg'}, {'id': '429', 'text': 'RT @Journalism2ls: ¡°300 Awesome Free Tools (for your own News Startup)¡± ¡ªVoicester ', 'label': None, 'path': 'data/429.jpg'}, {'id': '4040', 'text': 'http://t.co/5TOGD52wrr http://t.co/8WcdOhFIzB', 'label': None, 'path': 'data/4040.jpg'}, {'id': '2114', 'text': 'RT @FloydMayweather: ....Miss Pac Man is broke and desperate for a pay day. Your Pay-Per-View numbers are a joke. ???? ', 'label': None, 'path': 'data/2114.jpg'}, {'id': '3998', 'text': 'RT @TheSickDrawings: Bridge made out of an abandoned train-car. http://t.co/A6E7IDkLLc', 'label': None, 'path': 'data/3998.jpg'}, {'id': '1020', 'text': 'RT @GooleAFC: Tonight we recieved a donation of ?200 from our friends @GooleUnitedAFC towards the VPG defibrillator! #speechless ', 'label': None, 'path': 'data/1020.jpg'}, {'id': '2676', 'text': 'RT @AlanStein: Many of the campers were misled into thinking I am famous. I devalued 100+ shirts this week from signing them. ', 'label': None, 'path': 'data/2676.jpg'}, {'id': '2367', 'text': 'RT @ImPasky: Every black person KNOW these houses ?????? ', 'label': None, 'path': 'data/2367.jpg'}, {'id': '5037', 'text': 'http://t.co/PZoCZVs7yg http://t.co/F2MslyKhJc #bookboost ¡\\xad', 'label': None, 'path': 'data/5037.jpg'}, {'id': '2863', 'text': 'Sexy Naked Amateur Girls', 'label': None, 'path': 'data/2863.jpg'}, {'id': '2988', 'text': 'Acabou de vazar nova m¨²sica do filme fast & furious ', 'label': None, 'path': 'data/2988.jpg'}, {'id': '2746', 'text': 'Still feeling mildly disturbed by this fountain at Dom Jesus with the water coming out of its eyes... Seriously: why? ', 'label': None, 'path': 'data/2746.jpg'}, {'id': '1431', 'text': 'Nobody appointed you the general spokesperson for #artisticcreativity @kanyewest #worthless #undeserved ', 'label': None, 'path': 'data/1431.jpg'}, {'id': '2550', 'text': 'RT @LIONS4Mercy: FACT: Over 100 million animals are burned', 'label': None, 'path': 'data/2550.jpg'}, {'id': '286', 'text': 'This is happy good evening meet ; With such a fine scene sweet. ', 'label': None, 'path': 'data/286.jpg'}, {'id': '739', 'text': 'RT @FoodPornPhotos: Hot Fudge & Whipped Pancakes. ', 'label': None, 'path': 'data/739.jpg'}, {'id': '3348', 'text': 'RT @MeloniFulvio: I got the power !!! By @melonifulvio #spoleto #umbria #italy #spirituality ', 'label': None, 'path': 'data/3348.jpg'}, {'id': '3948', 'text': 'RT @UlrichJvV: 9-year-old Filipino boy photographed doing homework in the street light of a McDonald¡¯s - so much wrong in our world! http:/¡\\xad ', 'label': None, 'path': 'data/3948.jpg'}, {'id': '3224', 'text': \"I swear niggas is Suckas ??? catch me lacking and they look down tilt they hat down and act like I don't exist \", 'label': None, 'path': 'data/3224.jpg'}, {'id': '1096', 'text': '#vibrant #bold #birthday #balloons in #bolton ?? ', 'label': None, 'path': 'data/1096.jpg'}, {'id': '1584', 'text': \"It's all about little details. Thank you L #infatuated #gift #chivalryisnotdead \", 'label': None, 'path': 'data/1584.jpg'}, {'id': '3660', 'text': 'Just to be spiteful', 'label': None, 'path': 'data/3660.jpg'}, {'id': '3898', 'text': 'RT @ItsFoodPorn: Hot Chocolate with Whipped Cream ', 'label': None, 'path': 'data/3898.jpg'}, {'id': '751', 'text': 'RT @HoopVine: Basketball Level: Asian Dad ', 'label': None, 'path': 'data/751.jpg'}, {'id': '3963', 'text': '#20 #RT Desde Quando Voc¨º Se Foi', 'label': None, 'path': 'data/3963.jpg'}, {'id': '3891', 'text': 'Ki Hong: \"Is that a video?\" ? ', 'label': None, 'path': 'data/3891.jpg'}, {'id': '312', 'text': 'RT @RevolutionSyria: Help the helpless. Tweet & retweet for #Syria. Don¡¯t let evil get its way. #AssadHolocaust ', 'label': None, 'path': 'data/312.jpg'}, {'id': '867', 'text': 'sums up my free time #exploring #adventuring #walking #train #tracks #traintracks #gloomy #grunge #hipster #punk ', 'label': None, 'path': 'data/867.jpg'}, {'id': '3268', 'text': '@chrisricewriter moderated lively & informative final panel on Sex in Thrillers with @RealCharlaine Lee Child et al. ', 'label': None, 'path': 'data/3268.jpg'}, {'id': '1697', 'text': \"@ThatKidRalph: I was going to be a child and violate butttt I'm grown #shook \\n\", 'label': None, 'path': 'data/1697.jpg'}, {'id': '1791', 'text': '#Desolate by pvallet67 - #D810 #France #Graffiti ', 'label': None, 'path': 'data/1791.jpg'}, {'id': '3701', 'text': 'They Were Stunned When She Got Pregnant. But When They Saw the Sonogram... WOW ', 'label': None, 'path': 'data/3701.jpg'}, {'id': '2055', 'text': 'RT @harpersbazaarus: Yes', 'label': None, 'path': 'data/2055.jpg'}, {'id': '3914', 'text': 'RT @Dolphin_Project: Wild dolphins swimming free in the Bahamas #DolphinProject ', 'label': None, 'path': 'data/3914.jpg'}, {'id': '3572', 'text': \"RT @ItsRaniiiii: We got Tatum! It's a wrap. Will be shocked if Giles doesn't pick Duke now. #DukeNation #PackageDeal ??? \", 'label': None, 'path': 'data/3572.jpg'}, {'id': '1660', 'text': '#Fanghorn forest or #Alder #woodland up Glen #vorlich', 'label': None, 'path': 'data/1660.jpg'}, {'id': '2943', 'text': 'Why do you get flustered so much? Take the quiz: ', 'label': None, 'path': 'data/2943.jpg'}, {'id': '424', 'text': 'GRACE ELEMENTS FROM THE USA WOMENS SLEEVELESS RUFFLE TOP IN BLACK - SIZE MEDIUM > #Womens¡\\xad ', 'label': None, 'path': 'data/424.jpg'}, {'id': '1285', 'text': '????? ??. ??????? #Crazy #4MINUTE ', 'label': None, 'path': 'data/1285.jpg'}, {'id': '3039', 'text': 'RT @rosegoldrican: happy Sunday yall? ', 'label': None, 'path': 'data/3039.jpg'}, {'id': '1642', 'text': '#February #Winter #Rainy #Stormy #Windy #Tuesday #Night #Love #Happy #Positive #Passionate #Calm #Joy #Fun #Coffee??? ', 'label': None, 'path': 'data/1642.jpg'}, {'id': '1111', 'text': 'Maintain the memory and focus you need for a #vibrant life. - @TheRealMarilu. Try Spark! >>> ', 'label': None, 'path': 'data/1111.jpg'}, {'id': '1539', 'text': '#me #Brooklyn #girl #gloomy #grunge #band #bass #darkness #music #musicians #live #cool #c¡\\xad ', 'label': None, 'path': 'data/1539.jpg'}, {'id': '3401', 'text': 'RT @autodesk: Inspired by student rooms this #render is a creepy interpretation of neglected sudent spaces. ', 'label': None, 'path': 'data/3401.jpg'}, {'id': '2098', 'text': 'RT @Losquintana: ?nica funci¨®n Madrid nuevo espect¨¢culo #CRAZY 10 Marzo 22:00h @teatrolara NO TE LO PIERDAS!! http:/¡\\xad ', 'label': None, 'path': 'data/2098.jpg'}, {'id': '3400', 'text': 'RT @blackvoices: #BlackMuslimRamadan aims to celebrate a vibrant', 'label': None, 'path': 'data/3400.jpg'}, {'id': '4345', 'text': 'RT @mental_runner: The best type of exercise for depression', 'label': None, 'path': 'data/4345.jpg'}, {'id': '1352', 'text': 'You are allowed to terminate toxic relationships. #itsonus You are allowe #depression ', 'label': None, 'path': 'data/1352.jpg'}, {'id': '4681', 'text': 'The pad for our new training facility  is nearly finished  and the building will be going up soon. http://t.co/n3MuulWbER', 'label': None, 'path': 'data/4681.jpg'}, {'id': '3005', 'text': 'Why are you feeling gloomy? Take the quiz: ', 'label': None, 'path': 'data/3005.jpg'}, {'id': '2362', 'text': 'RT @IndySport: Lehmann must convince bewildered Australia it really was just a hiccup', 'label': None, 'path': 'data/2362.jpg'}, {'id': '2154', 'text': \"@TimdeLisle Better things for writer to work on.Not scathing enough. Not bdsm just dismal fantasy of this man's wife \", 'label': None, 'path': 'data/2154.jpg'}, {'id': '1512', 'text': 'Bad idea to open #bps today @marty_walsh Do you have any idea how #crippled we are in #DOT?!! This! For an hour!! ', 'label': None, 'path': 'data/1512.jpg'}, {'id': '2677', 'text': \"Don't ever make someone else feel insignificant of devalued because of your twisted miscon¡\\xad \", 'label': None, 'path': 'data/2677.jpg'}, {'id': '848', 'text': 'RT @MinusIndustries: Day 365: #365PROJECT: 365 Days of 30 Minute Drawings #Yeg #YegArt #YegArts #TheEnd #End #Finished #Finale #Fin #MINUS ¡\\xad ', 'label': None, 'path': 'data/848.jpg'}, {'id': '1243', 'text': 'The Steel Curtain #thunderstruck #football #ilovepittsburgh #steelercountry ', 'label': None, 'path': 'data/1243.jpg'}, {'id': '3637', 'text': 'Sparkling Blue Spinel gemstone heart Silver ring love handmade pr¡\\xad https://t.co/FEhI6m04MG #bohojewelry #CuteJewelry ', 'label': None, 'path': 'data/3637.jpg'}, {'id': '1990', 'text': '#Wiserswhiskeyquestionoftheday Cheerful Valentines Day Everybody ... Did You Get My Valentines Day Card ', 'label': None, 'path': 'data/1990.jpg'}, {'id': '2627', 'text': 'RT @thenerdyteacher: Share your support on 7/14. End the stigma of Depression and Anxiety. #semicolonEDU #sunchat ht¡\\xad ', 'label': None, 'path': 'data/2627.jpg'}, {'id': '948', 'text': '#vsco #vscocam #vscohub #vscobest #vscoonly #vscolife #vscolovers #vscofeel #instasize #instadaily #instaodessa #in¡\\xad ', 'label': None, 'path': 'data/948.jpg'}, {'id': '5039', 'text': 'ht¡\\xad', 'label': None, 'path': 'data/5039.jpg'}, {'id': '1587', 'text': 'Yayyyy papusas for birthday lunch?? 28yrs today #happybirthday #28 #papusas #mmmmm #foodie #foodporn #instafood #in¡\\xad ', 'label': None, 'path': 'data/1587.jpg'}, {'id': '55', 'text': '¤À¤¤¤ÖÃß¤¤¡£\\x81¢Ãß¤È¤ë¤«¡£#\\x8eüÐæ #abandoned #ruins #haikyo #urbex #Ð´ÕæºÃ¤\\xad¤ÊÈË¤È¿\\x8e¤¬¤ê¤¿¤¤ ', 'label': None, 'path': 'data/55.jpg'}, {'id': '4738', 'text': 'Why are you feeling gloomy? Take the quiz: http://t.co/CSFllI7ZCU http://t.co/hh80OAgUcy', 'label': None, 'path': 'data/4738.jpg'}, {'id': '4205', 'text': 'RT @jimmurphySF: ¡°If you run they will kill you so you just close your eyes so you don¡¯t see the rapes', 'label': None, 'path': 'data/4205.jpg'}, {'id': '3494', 'text': 'RT @euphoriakay: the unholy trinity lol ', 'label': None, 'path': 'data/3494.jpg'}, {'id': '2758', 'text': 'David Beckham: doting father with his little Harper! ', 'label': None, 'path': 'data/2758.jpg'}, {'id': '479', 'text': 'London swamped by #intolerant #uncompromising #belligerent #MuslimScum. #Britain is #dying & its #death is immanent ', 'label': None, 'path': 'data/479.jpg'}, {'id': '1898', 'text': 'Awww #MikeRalph You have #Delighted Me!!! #Cake ? @SodexoUK_IRE @Tech_Sodexo #MonthofLove ???? ', 'label': None, 'path': 'data/1898.jpg'}, {'id': '3046', 'text': 'RT @SheeeRatchet: this episode would get me so heated', 'label': None, 'path': 'data/3046.jpg'}, {'id': '1088', 'text': '#Guess Who This #Grinning #Little #Girl #Turned Into! ', 'label': None, 'path': 'data/1088.jpg'}, {'id': '1039', 'text': 'RT @jennyschxo: Find something. I did this in school ? @NiallOfficial @Louis_Tomlinson #strong #LarryIsReal ', 'label': None, 'path': 'data/1039.jpg'}, {'id': '1875', 'text': '#concrete #derelict #brutalist #brutalism #abandoned #London ', 'label': None, 'path': 'data/1875.jpg'}, {'id': '1100', 'text': 'What is your #style like? #Simple and #elegant or #vibrant and #edgy? :) #fashion #girls #awesome #follow #amazing ', 'label': None, 'path': 'data/1100.jpg'}, {'id': '224', 'text': 'Cake is finished! Proud of it tbh so hey ho. ? ', 'label': None, 'path': 'data/224.jpg'}, {'id': '2585', 'text': 'I just defeated EGE in a duel! #letsDUAL ', 'label': None, 'path': 'data/2585.jpg'}, {'id': '2888', 'text': '¡®Fear The Walking Dead¡¯ Sets August 23 Debut ¨C Comic Con ', 'label': None, 'path': 'data/2888.jpg'}, {'id': '1309', 'text': 'ARGHHHH!!!! NOOO!!! I was trying to wait for #Windows10 to upgrade my @nokia @LumiaUS 1020. #crushed #devastated ', 'label': None, 'path': 'data/1309.jpg'}, {'id': '4693', 'text': 'Why do you get flustered so much? Take the quiz: http://t.co/j4RKAXai0s http://t.co/jTQqDLxYe5', 'label': None, 'path': 'data/4693.jpg'}, {'id': '3651', 'text': 'AMAZING SPARKLING RED BARYTE SPECIMEN ON CREATIVE CUSTOM MADE DISPLAY STAND ', 'label': None, 'path': 'data/3651.jpg'}, {'id': '383', 'text': '¡° Because writer is too intimidated for asking to RP. ¡± ', 'label': None, 'path': 'data/383.jpg'}, {'id': '1057', 'text': 'Seriously when is @MrAshleyCain making his appearance on ExOnTheBeach2?. #Excited ', 'label': None, 'path': 'data/1057.jpg'}, {'id': '2607', 'text': \"RT @UKinColombia: Delighted that @FALCAO is returning to the UK's @premierleague to play for @ChelseaFC #SportisGREAT @jeffglekin \", 'label': None, 'path': 'data/2607.jpg'}, {'id': '3306', 'text': 'RT @SpokespersonMoD: IAF rescues 28 marooned BSF Jawans from a Border Out Post near Ramgarh Village of Samba District in J&K. ', 'label': None, 'path': 'data/3306.jpg'}, {'id': '310', 'text': 'BEAUTY : #66781 NEW Mastex Professional Heated Beauty Booties Feet Therapy- White (MX-25) ¡\\xad ', 'label': None, 'path': 'data/310.jpg'}, {'id': '2646', 'text': 'RT @WhoSFX: Chris Barry chose this location as it looked desolate and reminded him of the surface of the moon. #TheSavages ', 'label': None, 'path': 'data/2646.jpg'}, {'id': '1490', 'text': '#rwilly @rwillyofficial #hellagrip #smith #feeble #f¡\\xad ', 'label': None, 'path': 'data/1490.jpg'}, {'id': '4860', 'text': 'http://t.co/57QIx3053v http://t.co/ZNlfmKGL5H', 'label': None, 'path': 'data/4860.jpg'}, {'id': '1606', 'text': '@katiebennett_94: A picture speaks a thousand words #In WarbsWeTrust \\n', 'label': None, 'path': 'data/1606.jpg'}, {'id': '3554', 'text': 'My #illustrations about the \"The Wrath of a #Robot Scorned.\" See more #book cover #art at ', 'label': None, 'path': 'data/3554.jpg'}, {'id': '3580', 'text': '10 STARS WHO HAVE BEEN SHUNNED BY?HOLLYWOOD ', 'label': None, 'path': 'data/3580.jpg'}, {'id': '4947', 'text': \"Kenda K1083A 26x2.35' Happy Medium Folding MTB Mountain Bicycle Tire - Black http://t.co/4Xbw3yUFJS http://t.co/6z5xX1UyYJ\", 'label': None, 'path': 'data/4947.jpg'}, {'id': '3889', 'text': '@vis_240 ?? ?? ???? ????? ??? ???????????????? ?? ? ??? ', 'label': None, 'path': 'data/3889.jpg'}, {'id': '5', 'text': 'RT @chrisashaffer: Went to SSC today to be a \"movie star\" to rep for the Deaf and got to meet an energetic great guy: Mark White! ', 'label': None, 'path': 'data/5.jpg'}, {'id': '2704', 'text': '@CooperativeFood pretty dismal that a supermarket - the co op no less - is hawking badly written porn. ', 'label': None, 'path': 'data/2704.jpg'}, {'id': '3346', 'text': '@Merry__Can @HillaryClinton and she continues to be a liar ', 'label': None, 'path': 'data/3346.jpg'}, {'id': '2480', 'text': 'RT @TravisMcEwanCBC: 4 units burned in a Morinville condo fire yesterday. Damage estimated at $1 million. Tenants not insured. #CBC ', 'label': None, 'path': 'data/2480.jpg'}, {'id': '3842', 'text': 'RT @1DLiveReports: fun fact: Alberto Alvarez', 'label': None, 'path': 'data/3842.jpg'}, {'id': '4807', 'text': 'USA BUSINESS DEALS : http://t.co/B2a7tkBv1s #9192 Executive Ergonomic Heated Vibrating Computer Desk Office Massa¡\\xad http://t.co/Sgg4EnpjM3', 'label': None, 'path': 'data/4807.jpg'}, {'id': '3001', 'text': 'Colombia Road flower market. Good way to spend this gloomy Sunday. #sunflowers #SundayMarkets ', 'label': None, 'path': 'data/3001.jpg'}, {'id': '4715', 'text': 'RT @whit0013: RT @McLovinGod: ¡°Yeah', 'label': None, 'path': 'data/4715.jpg'}, {'id': '4410', 'text': 'RT @DailySharky: @adamlevine is a devoted yoga student and will even bring his instructor on tour with him. #AdamLevineFacts http://t.co/PK¡\\xad', 'label': None, 'path': 'data/4410.jpg'}, {'id': '1290', 'text': 'day 37 \"My full name is Cadence Sinclair Eastman.\" #finished #blisteringsmart #100happydays ', 'label': None, 'path': 'data/1290.jpg'}, {'id': '4644', 'text': \"RT @ContentOutcast: My good friend's deepest fear. Part I. http://t.co/4RKCz9iOiL\", 'label': None, 'path': 'data/4644.jpg'}, {'id': '4294', 'text': 'A friend had her car damaged & bike stolen by some lowlifes last night in Kilkenny. Any sign online/elsewhere', 'label': None, 'path': 'data/4294.jpg'}, {'id': '4847', 'text': '#20150609 CELEBUZZ: Um', 'label': None, 'path': 'data/4847.jpg'}, {'id': '2750', 'text': 'RT @RAFRed4: Great capture of the twister by @Fotomotion - this is taken just before I start to get dizzy! ', 'label': None, 'path': 'data/2750.jpg'}, {'id': '1861', 'text': '#newpublicart Though personally opposed (and probably a little bitter) happy Valentines Day! #jeffkoons #publicart ¡\\xad ', 'label': None, 'path': 'data/1861.jpg'}, {'id': '4272', 'text': 'Who wants a kiss ?? just crushed this workout http://t.co/e5QtxR8s8x', 'label': None, 'path': 'data/4272.jpg'}, {'id': '617', 'text': 'Hows that corruption going for you this morning? Still going strong? ', 'label': None, 'path': 'data/617.jpg'}, {'id': '1574', 'text': 'How #the #Grammys #get #it #wrong #every #year #| #Grammys # #Grammys |PP ', 'label': None, 'path': 'data/1574.jpg'}, {'id': '2332', 'text': 'That awkward moment when a random cat comes and lays in bed with you.... ', 'label': None, 'path': 'data/2332.jpg'}, {'id': '1974', 'text': '@wejx_n ??? ????? ???? ?? ?? ', 'label': None, 'path': 'data/1974.jpg'}, {'id': '3399', 'text': 'RT @FEMAgulag: ?SCARED', 'label': None, 'path': 'data/3399.jpg'}, {'id': '3714', 'text': 'wile Messiah taut His Set Apart Name.. ', 'label': None, 'path': 'data/3714.jpg'}, {'id': '5092', 'text': 'http://t.co/BbCPU1r8pj', 'label': None, 'path': 'data/5092.jpg'}, {'id': '2709', 'text': 'Why are you feeling dismal? Take the quiz: ', 'label': None, 'path': 'data/2709.jpg'}, {'id': '1435', 'text': '#empty #office #zombie #apocalypse by markt___ ', 'label': None, 'path': 'data/1435.jpg'}, {'id': '4449', 'text': 'Why do you get distressed so much? Take the quiz: http://t.co/yu9r0ZlCyc http://t.co/b6jqTVMGvk', 'label': None, 'path': 'data/4449.jpg'}, {'id': '2939', 'text': \"RT @thinkprogress: How our flawed background check system put a gun in Dylann Roof's hands \", 'label': None, 'path': 'data/2939.jpg'}, {'id': '1429', 'text': 'Sprayed with iodine. They sent small replacement top and it fits! Even with an undershirt! #elated! ', 'label': None, 'path': 'data/1429.jpg'}, {'id': '145', 'text': '@_MusicForLovee: Happy Valentines Day Bby ???? ??????? \\n', 'label': None, 'path': 'data/145.jpg'}, {'id': '250', 'text': 'A first: When when your 2-liter falls through the bag= 20 ft rocket launch', 'label': None, 'path': 'data/250.jpg'}, {'id': '4871', 'text': 'RT @_ruggero: #TwitcamLodoRugg TT in Italia :) siete i migliori :) <3 http://t.co/k3AtPABk59', 'label': None, 'path': 'data/4871.jpg'}, {'id': '1868', 'text': 'A Black Republican wrote \"Lift Every Voice & Sing\" The Black Conservative ', 'label': None, 'path': 'data/1868.jpg'}, {'id': '1508', 'text': 'Give me some money! #Hopeless ', 'label': None, 'path': 'data/1508.jpg'}, {'id': '4811', 'text': 'Bad Blood Part Two? Taylor Swift and Nicki Minaj Have Heated Twitter Exhange Over MTV VMA Nod ¡\\xad http://t.co/b6HcWNLxcW', 'label': None, 'path': 'data/4811.jpg'}, {'id': '3222', 'text': \"But it's kind of Empty \", 'label': None, 'path': 'data/3222.jpg'}, {'id': '566', 'text': 'Bit of bleakness. ? #bleak #blackandwhite #columns #trees ', 'label': None, 'path': 'data/566.jpg'}, {'id': '558', 'text': 'A picture that shook the world. Read the #story and share it: #humanrights #starvation ', 'label': None, 'path': 'data/558.jpg'}, {'id': '38', 'text': 'RT @Footy_Jokes: Mario finally has a smile on his face! ', 'label': None, 'path': 'data/38.jpg'}, {'id': '533', 'text': '037 / 365 Engageante by ... - #Abandoned #Beauty #Carpet #Castle #Decay #Deserted ', 'label': None, 'path': 'data/533.jpg'}, {'id': '2527', 'text': 'RT @FutbolBible: BREAKING: Fenerbah?e have signed Robin van Persie from Manchester United. #RvP ', 'label': None, 'path': 'data/2527.jpg'}, {'id': '2078', 'text': '[PIC] \" City boss Kevin Keegan appears dejected after United\\'s dominance. \" ', 'label': None, 'path': 'data/2078.jpg'}, {'id': '3731', 'text': 'RT @NBCSports: Police: Bills coach Kromer punched a boy and threatened to kill his family over beach chairs. ', 'label': None, 'path': 'data/3731.jpg'}, {'id': '124', 'text': 'THIS remIX MAKES ME DIZZY ', 'label': None, 'path': 'data/124.jpg'}, {'id': '4774', 'text': 'I really can see love', 'label': None, 'path': 'data/4774.jpg'}, {'id': '967', 'text': 'Do you like #vampires?Forget #Twilight!\"The addiction\" 1995', 'label': None, 'path': 'data/967.jpg'}, {'id': '3016', 'text': 'NAPOLEONIC FRENCH GENERAL GROUCHY 1812 - 54mm METAL PAINTED ', 'label': None, 'path': 'data/3016.jpg'}, {'id': '2911', 'text': 'RT @LFCFrance: .@LucasLeiva87 parle des supporters des Reds du monde entier #LFC #LFCFrance ', 'label': None, 'path': 'data/2911.jpg'}, {'id': '4613', 'text': '@thelionels ME? EXCITED!? Nooooo!! Nor is @camillashansen ? See You Tomorrow Boys! ?? http://t.co/cltZ8C6FPl', 'label': None, 'path': 'data/4613.jpg'}, {'id': '4201', 'text': 'RT @ViperSlays: @Chrissy_EU @Aqua1arda Here is your nan before I burned the cunt http://t.co/mbutJfNatw', 'label': None, 'path': 'data/4201.jpg'}, {'id': '4877', 'text': 'RT @ashleighperkin3: Plz RT for Ed guys! We r only in the lead by a few votes! ? #FanArmyFaceOff #Sheerios http://t.co/UlVfQ9ucel', 'label': None, 'path': 'data/4877.jpg'}, {'id': '4306', 'text': 'New on Ebay UK DAMAGED APPLE iPHONE 6 16GB SMARTPHONE (VODAFONE) - SPARES REPAIRS (RN349) http://t.co/agxuvkS2cK http://t.co/2EqJ3KmoFK', 'label': None, 'path': 'data/4306.jpg'}, {'id': '3671', 'text': 'I keep being startled', 'label': None, 'path': 'data/3671.jpg'}, {'id': '4255', 'text': 'This thing works like crazy. I just finished brushing my two German Shepherds. @FURminator http://t.co/vDDQm8w3OY', 'label': None, 'path': 'data/4255.jpg'}, {'id': '1105', 'text': 'Chaotic Love - giclee print ?65 at #art #love #chaotic #abstract #blue #silver #prints #buy ', 'label': None, 'path': 'data/1105.jpg'}, {'id': '1806', 'text': \"It's Time for a Change #WorldLoveForDolphinsDay \", 'label': None, 'path': 'data/1806.jpg'}, {'id': '3061', 'text': 'Mom Horrified After Young Son Finds Camera In Starbucks Toilet - ', 'label': None, 'path': 'data/3061.jpg'}, {'id': '1830', 'text': '??? ??? ???? ?? ??? ???? ??? ??? ??8?8))) ', 'label': None, 'path': 'data/1830.jpg'}, {'id': '3417', 'text': 'RT @neonmoonco: WHY ARE YOU SO OFFENDED? ', 'label': None, 'path': 'data/3417.jpg'}, {'id': '60', 'text': \"RT @RobertWRossEsq: William Bruce Ellis Ranken's ebullient portrait of the young Ernest Thesiger. Born this day in 1879. \", 'label': None, 'path': 'data/60.jpg'}, {'id': '1933', 'text': 'This Bobby Brown lad is buoyant again! What a week for @OfficialIdeye ! Super performance today. Delighted for him! ', 'label': None, 'path': 'data/1933.jpg'}, {'id': '3022', 'text': 'Peace', 'label': None, 'path': 'data/3022.jpg'}, {'id': '2635', 'text': 'Abdel-Majed Abdel Bary: British jihadist deserted #Isis in #Syria and is on the run in... ', 'label': None, 'path': 'data/2635.jpg'}, {'id': '2815', 'text': 'RT @JonHarvey1977: @TheRyanAdams Not an entirely enthusiastic response to Live at Carnegie Hall... ', 'label': None, 'path': 'data/2815.jpg'}, {'id': '1301', 'text': 'I would like to take this time to show everyone my newest look. Props to the artist Juan Hernandez. .#crippled ', 'label': None, 'path': 'data/1301.jpg'}, {'id': '575', 'text': 'At -- #brooklyn #deserted #empty #cobblestone #street #night #nightshot #brooklynbridge #l¡\\xad ', 'label': None, 'path': 'data/575.jpg'}, {'id': '4925', 'text': 'RT @NWSLosAngeles: Isolated showers and thunderstorms developing over the #Ventura and #SLO Mtns this evening. #CAwx http://t.co/kNlZPko0l1', 'label': None, 'path': 'data/4925.jpg'}, {'id': '4112', 'text': 'Black lives matter. Justice for Soror Sandra Bland. #sandyspeaks #sayhername #justiceforsandy http://t.co/Z4QcqfafAg', 'label': None, 'path': 'data/4112.jpg'}, {'id': '5127', 'text': 'RT @bookmyshow: #Disney\\'s lies - \"Every day is a good hair day\". Yeah', 'label': None, 'path': 'data/5127.jpg'}, {'id': '4795', 'text': '#RT¤·¤¿ÈË¤Ç\\x9aÝ¤Ë¤Ê¤Ã¤¿ÈË¥Õ¥©¥í©`¤¹¤ë http¡\\xad', 'label': None, 'path': 'data/4795.jpg'}, {'id': '334', 'text': \"RT @_metafizik: Getting really incensed w/ the GOP's public displays of disrespect to the POTUS & America. Karma's due.#UniteBlue #P2 http:¡\\xad \", 'label': None, 'path': 'data/334.jpg'}, {'id': '3126', 'text': 'you can still conjointly match me up mentally ', 'label': None, 'path': 'data/3126.jpg'}, {'id': '912', 'text': '#StreetArtThrowdown Getting ready for disney night take two #disney #mickeymouse #excited #selfie ', 'label': None, 'path': 'data/912.jpg'}, {'id': '3969', 'text': 'Digiboo¡¯s Zippy Download Kiosks Are Coming To An Airport Near You | Fast ¡\\xad ¨C Fast?Company ', 'label': None, 'path': 'data/3969.jpg'}, {'id': '3451', 'text': 'RT @Jessicalombao: Someone was overwhelmed... ', 'label': None, 'path': 'data/3451.jpg'}, {'id': '3336', 'text': 'RT @The_Tolkienist: Moving house has a melancholy air.about it. It often means saying goodbye to a life you knew in exchange for a life¡\\xad ht¡\\xad ', 'label': None, 'path': 'data/3336.jpg'}, {'id': '923', 'text': '#Horrified #BMovie #Victims #Playset #Swagshop ', 'label': None, 'path': 'data/923.jpg'}, {'id': '2737', 'text': '7 for All Mankind A Pocket Womens Jeans Size 24 x 29 U130CJ080U distressed USA ', 'label': None, 'path': 'data/2737.jpg'}, {'id': '2443', 'text': 'Blue leather bag', 'label': None, 'path': 'data/2443.jpg'}, {'id': '1312', 'text': 'We only use @simplysabuni products on our clients hair. Custom made #Haircare essentials! #Haircare #Hair #Damaged ', 'label': None, 'path': 'data/1312.jpg'}, {'id': '3505', 'text': \"RT @InSightCrime: #Chapo's escape could paralyze .@EPN administration in terms of security policy. Our analysis http¡\\xad \", 'label': None, 'path': 'data/3505.jpg'}, {'id': '2764', 'text': 'Pouring with rain but not downhearted. Huntingdon & Peterborough Federation Centenary Picnic. ', 'label': None, 'path': 'data/2764.jpg'}, {'id': '4580', 'text': 'RT @TheFIREorg: Consent to sex at @CCUChanticleers must be enthusiastic', 'label': None, 'path': 'data/4580.jpg'}, {'id': '3854', 'text': 'RT @BreeNewsome: History will haunt this nation like a vengeful spirit until it does right by my people. #BlackLivesMatter #McKinney http:/¡\\xad ', 'label': None, 'path': 'data/3854.jpg'}, {'id': '2570', 'text': \"Seen on Fahlo:Cut or don't cut? ?? \", 'label': None, 'path': 'data/2570.jpg'}, {'id': '2989', 'text': 'RT @TotalPolitics: Furious Labour backlash as Harriet Harman says party will back Tory welfare reforms ', 'label': None, 'path': 'data/2989.jpg'}, {'id': '2115', 'text': '@TrippyPip use only if desperate ', 'label': None, 'path': 'data/2115.jpg'}, {'id': '3462', 'text': 'Ridge Avenue is closed after a partial building collapse and electrical fire Saturday night: ', 'label': None, 'path': 'data/3462.jpg'}, {'id': '1699', 'text': 'Just sat down on the plane! #shook #a380 ', 'label': None, 'path': 'data/1699.jpg'}, {'id': '4898', 'text': '? 2015 Harold Green. http://t.co/8nlcPhr66W', 'label': None, 'path': 'data/4898.jpg'}, {'id': '4138', 'text': ' #Namjuhyuk #??? #namjoohyuk http¡\\xad', 'label': None, 'path': 'data/4138.jpg'}, {'id': '1866', 'text': '#KanyeWest #Kanye #KimKardashian #NorthWest #PornStar #Trash #LoL #Kanyeisadouchebag #kanyeisanidiot #desperate ', 'label': None, 'path': 'data/1866.jpg'}, {'id': '2915', 'text': 'RT @YouChoices: Mountains or sea? ', 'label': None, 'path': 'data/2915.jpg'}, {'id': '1635', 'text': '#ganja #ganjalife #ganjah #marijuana #weedstagram #stoned #smoke #cannabis #dope #kush #liveloud #thc #weedporn #in¡\\xad ', 'label': None, 'path': 'data/1635.jpg'}, {'id': '1908', 'text': '#destroyed grill Know God Free Twitter Traffic ', 'label': None, 'path': 'data/1908.jpg'}, {'id': '4030', 'text': 'RT @john_kucko: Storms miss @rochester', 'label': None, 'path': 'data/4030.jpg'}, {'id': '4771', 'text': 'RT @undercoverbun: Happiness ;() http://t.co/XIWZNpjM6w', 'label': None, 'path': 'data/4771.jpg'}, {'id': '3248', 'text': 'Aquatic Hitchhiker [Digipak] * by Leftover Salmon (CD', 'label': None, 'path': 'data/3248.jpg'}, {'id': '494', 'text': 'RT @NHAparty: Be passionate about a podiatrist #loveNHS ', 'label': None, 'path': 'data/494.jpg'}, {'id': '3161', 'text': 'First watermelon eating contest win w/ 1.25 watermelons (5 pieces) in 3 minutes. ', 'label': None, 'path': 'data/3161.jpg'}, {'id': '20', 'text': 'Winners will be chosen in 1 week. ', 'label': None, 'path': 'data/20.jpg'}, {'id': '3300', 'text': \"RT @AHappyFlower: Apologies for relative silence. I've been marooned in 1947 #filming #Fenland @ousewasheslp \", 'label': None, 'path': 'data/3300.jpg'}, {'id': '4242', 'text': 'The barbarity of vivisection can never be part of a modern compassionate society #BoycottCambridge http://t.co/jiD7bTZ9w4', 'label': None, 'path': 'data/4242.jpg'}, {'id': '1476', 'text': '#Repost @elislime with @repostapp.?????#§Ò§Ö§Ù§å§Õ§Ö§â§Ø§ß§à§Ö§Ó§Ö§ã§Ö§Ý§î§Ö #§å§á§à§â§à§ä§í #§Ü§Ú§ã§í #india #goa #travel #crazy by araukaria.3 ', 'label': None, 'path': 'data/1476.jpg'}, {'id': '1879', 'text': 'The Golden star @NawalElZoghbi in @Prada black bag #Fashion #NawalElZoghbi . ', 'label': None, 'path': 'data/1879.jpg'}, {'id': '1384', 'text': 'you #belong to #God. #Always try to do what is #right', 'label': None, 'path': 'data/1384.jpg'}, {'id': '1616', 'text': 'Just Give it to #Jesus he will take care of it #JesusCalling #Depression #follow ', 'label': None, 'path': 'data/1616.jpg'}, {'id': '4376', 'text': 'Why are you feeling despondent? Take the quiz: http://t.co/X8enSTDais http://t.co/rqGpV7QFfs', 'label': None, 'path': 'data/4376.jpg'}, {'id': '3884', 'text': 'Feeling weepy. Marcee brings me cake & tea. Does this make me part of #blessed twitter or... ', 'label': None, 'path': 'data/3884.jpg'}, {'id': '2026', 'text': 'RT @AusOpinion: Paul Kelly: The Abbott government now lives on borrowed time. #libspill #auspol ', 'label': None, 'path': 'data/2026.jpg'}, {'id': '4291', 'text': 'Genuine HP 21 Black Ink Cartridge in Damaged Retail Box http://t.co/7uDACIfDMf http://t.co/UxqRbq7Dg4', 'label': None, 'path': 'data/4291.jpg'}, {'id': '4790', 'text': '#24themovie http://t.co/91TxrS3eq6', 'label': None, 'path': 'data/4790.jpg'}, {'id': '657', 'text': 'Train carriage all to myself today! #offpeak #publictransport #empty #train #queenslandrai¡\\xad ', 'label': None, 'path': 'data/657.jpg'}, {'id': '2873', 'text': 'When u sit on the quad forgetting it was exposed to sunlight. ???? ', 'label': None, 'path': 'data/2873.jpg'}, {'id': '812', 'text': '@tawlondon administer a #dazzling extravaganza of #euphoric printed garments for #SS15 ', 'label': None, 'path': 'data/812.jpg'}, {'id': '2893', 'text': 'Ariana Grande Has Made Lisa Rinna Fearful of Donuts For Good Reason! #RHOBH #DonutGate ', 'label': None, 'path': 'data/2893.jpg'}, {'id': '3296', 'text': 'RT @theblendergirl: Always trying to mix up my #KALE SALADS & am loving this southwestern version @VeganYackAttack h¡\\xad ', 'label': None, 'path': 'data/3296.jpg'}, {'id': '126', 'text': \"Captivity? No Thanks! He'll empty ALL those tanks ! @SimonCowell #Cowell4Dolphins \", 'label': None, 'path': 'data/126.jpg'}, {'id': '2469', 'text': 'RT @thefader: Premiere: Listen to @iamkevingates buoyant but X-rated new song', 'label': None, 'path': 'data/2469.jpg'}, {'id': '3206', 'text': 'RT @KateJBryan: The Judges have judged! #wrap #landscapeartistoftheyear @SkyArts You are in for a treat!! ', 'label': None, 'path': 'data/3206.jpg'}, {'id': '2019', 'text': 'RT @arialvv: \"@JackmerOfficial: Crazy Idea (uh la la) [Lyric Video] https://t.co/BsOGYaIH7F ME GUSTAAA ', 'label': None, 'path': 'data/2019.jpg'}, {'id': '916', 'text': 'A little more persistence', 'label': None, 'path': 'data/916.jpg'}, {'id': '4621', 'text': 'live the full life of the mind, exhilarated by new #ideas, intoxicated by the romance of ¡\\xad http://t.co/7m3yLxmJ2G http://t.co/hSfHJJh6xz\\n', 'label': None, 'path': 'data/4621.jpg'}, {'id': '1620', 'text': 'My favorite: crowds of realtors waiting for doors to open #hangry #crushed ', 'label': None, 'path': 'data/1620.jpg'}, {'id': '184', 'text': 'Just learned Girl Scout cookies are now $5 per box. #APPALLED #DISBELIEF #INFLATION #FormerGirlScout ', 'label': None, 'path': 'data/184.jpg'}, {'id': '5017', 'text': \"RT @SamWalkerOBX: Well played RVA'ers\", 'label': None, 'path': 'data/5017.jpg'}, {'id': '1201', 'text': 'RT @_lucyandbelle: To celebrate the arrival of #Zippy do you want to #win a Fun Bandana Gift Set? Just RT and follow us! Ends 13.02.15! htt¡\\xad ', 'label': None, 'path': 'data/1201.jpg'}, {'id': '5111', 'text': '? the shocked ones http://t¡\\xad', 'label': None, 'path': 'data/5111.jpg'}, {'id': '4417', 'text': 'RT @mylilguppy: @TheGilbert23Mom @JVM Valerie found her babies Carson Daisy like a discarded pile of garbage #DogsMatter #Gilbert23 http://¡\\xad', 'label': None, 'path': 'data/4417.jpg'}, {'id': '4431', 'text': 'Why are you feeling dismal? Take the quiz: http://t.co/VNiVdWdbP5 http://t.co/PBNJS8Ciqr', 'label': None, 'path': 'data/4431.jpg'}, {'id': '4434', 'text': 'RT @corcorgiBH: ? ???? ???? ??? ?? ???????? ?? ?? ??? ??? ??? \"??? ?? ?????\" ??? ??? ??????????????? http://t.co/0JADQVn44B', 'label': None, 'path': 'data/4434.jpg'}, {'id': '4920', 'text': 'RT @Distinctboxes: Palmerston Island', 'label': None, 'path': 'data/4920.jpg'}, {'id': '272', 'text': '#AssadHolocaust the world grieved at the burning of asoldier and they silence at the burning of hundreds of civilians ', 'label': None, 'path': 'data/272.jpg'}, {'id': '279', 'text': 'RT @southernpride50: SAFE 2/10/15. ADOPTED. TY. HAPPINESS LILY??SUPER URGENT 2/10/15.NYC. https://t.co/gbD7DshAkT. ', 'label': None, 'path': 'data/279.jpg'}, {'id': '3020', 'text': 'RT @AnimalBibIe: A little circle of happiness ? ', 'label': None, 'path': 'data/3020.jpg'}, {'id': '2325', 'text': '3x retweets ¡\\xad as per attached : ', 'label': None, 'path': 'data/2325.jpg'}, {'id': '2858', 'text': 'RT @micknugent: Please retweet to support Irish teachers excluded from state-funded schools because they are atheist ', 'label': None, 'path': 'data/2858.jpg'}, {'id': '4288', 'text': 'RT @minnymooo: Haha maknae keep falling while squatting', 'label': None, 'path': 'data/4288.jpg'}, {'id': '1596', 'text': 'RT @sohailakhan48: the macho man ? fitness freak #intense #light #1YearOfParamSinghOnTwitter @8paramsingh loveallord¡\\xad ', 'label': None, 'path': 'data/1596.jpg'}, {'id': '803', 'text': '#Enthusiastic Mr & Mrs Grundling drives away in their BMW X5 @Zambesi_Auto @LegendsZambesi @ZambesiMotorrad ', 'label': None, 'path': 'data/803.jpg'}, {'id': '4363', 'text': 'Why are you feeling desolate? Take the quiz: http://t.co/FRaBQTw2Ej http://t.co/jSzhn5CLev', 'label': None, 'path': 'data/4363.jpg'}, {'id': '1895', 'text': 'laney wont stop bleeding. ?? ', 'label': None, 'path': 'data/1895.jpg'}, {'id': '3044', 'text': 'Whenever you see some heated drama unfolding on your timeline¡\\xad ', 'label': None, 'path': 'data/3044.jpg'}, {'id': '4721', 'text': '????????????????????? ???????????????????????? http://t.co/eDK8ixMI7v', 'label': None, 'path': 'data/4721.jpg'}, {'id': '698', 'text': '@4evarandom @GlambeR5t Ninetails are intelligent and vengeful', 'label': None, 'path': 'data/698.jpg'}, {'id': '1426', 'text': 'A fabulous evening with @The_Kingsolver . Thanks to @Hollard for making a very special evening possible. #elated ', 'label': None, 'path': 'data/1426.jpg'}, {'id': '2016', 'text': 'RT @Vicente56Juan: Confusi¨®n en carnaval. ', 'label': None, 'path': 'data/2016.jpg'}, {'id': '3745', 'text': 'Lana always looks super thrilled to take pictures with me ? ', 'label': None, 'path': 'data/3745.jpg'}, {'id': '4903', 'text': 'RT @jungkookreally: BTS FOREVER GETTING INTIMIDATED BY YOONGI http://t.co/GeYyn5zfeI', 'label': None, 'path': 'data/4903.jpg'}, {'id': '534', 'text': 'RT @BlSCUlTS: weird Twitter has ruined my sense of humor', 'label': None, 'path': 'data/534.jpg'}, {'id': '3650', 'text': 'Authentic Pandora Sparkling Stiletto Pendant Charm 791536CZ - Full read by eBay ', 'label': None, 'path': 'data/3650.jpg'}, {'id': '3371', 'text': 'How a #bitcoin atm promotes mixed martial arts in a #lasvegas gym #crypto #cryptocurrency ', 'label': None, 'path': 'data/3371.jpg'}, {'id': '112', 'text': 'RT @BlkHistStudies: One Love & Unity! ', 'label': None, 'path': 'data/112.jpg'}, {'id': '176', 'text': 'We asked @rebeccaminkoff for the one word that describes her state of mind leading up to her show... #EXHILARATED #¡\\xad ', 'label': None, 'path': 'data/176.jpg'}, {'id': '573', 'text': '@bexmader I hope you like my drawing of Zelena ? Lots of love! #wicked ', 'label': None, 'path': 'data/573.jpg'}, {'id': '4919', 'text': 'RT @IrishTimes: Peru to make contact with isolated tribe for first time http://t.co/QJXtXML03Y via @IrishTimesWorld http://t.co/bM0jQ6ABCg', 'label': None, 'path': 'data/4919.jpg'}, {'id': '3276', 'text': 'RT @raewalther: Long lost pals ?? ', 'label': None, 'path': 'data/3276.jpg'}, {'id': '480', 'text': 'RT @camilacabows: \"my therapist taught me to start thinking of my anxiety as my panicky friend. it¡¯s working', 'label': None, 'path': 'data/480.jpg'}, {'id': '87', 'text': \"Watching Titanic on Valentine's Day while eating a crap ton of chocolate... I'm just... So ecstatic. Can't you tell?? \", 'label': None, 'path': 'data/87.jpg'}, {'id': '911', 'text': 'This is what my business studies turn into everytime... #hopeless @yelyahwilliams @schzimmydeanie @paramore ', 'label': None, 'path': 'data/911.jpg'}, {'id': '3705', 'text': 'Happy Steph', 'label': None, 'path': 'data/3705.jpg'}, {'id': '3082', 'text': \"RT @seasaltclifford: @weirdnumber5SOS the fact that calum can't buy decent cigarettes hurt \", 'label': None, 'path': 'data/3082.jpg'}, {'id': '2537', 'text': 'RT @ReactionBeyonce: Twelve years ago today', 'label': None, 'path': 'data/2537.jpg'}, {'id': '4450', 'text': \"Check out #CITIZENSOFHUMANITY Women's #Daisy #Distressed #Relaxed #TaperedLeg #Jeans http://t.co/ZbNnNViN9X via @eBay http://t.co/SsjhmkHY3e\", 'label': None, 'path': 'data/4450.jpg'}, {'id': '1497', 'text': 'by beni43 @ Hachi Rokus... Hachi Rokus #everywhere. :) Just #finished the #ae86. #handmade¡\\xad ', 'label': None, 'path': 'data/1497.jpg'}, {'id': '3083', 'text': 'RT @girlideas: when u accidentally hurt ur pet ', 'label': None, 'path': 'data/3083.jpg'}, {'id': '443', 'text': \"RT @dreamsskinny82: Why can't I b like this & then people might actually want 2 b with me! #thinspo #ednos #anamia #ugly #depression http:/¡\\xad \", 'label': None, 'path': 'data/443.jpg'}, {'id': '2957', 'text': 'RT @OilyRagClothing: Our range of Carl Fogarty (official) Tshirts #Foggy #Ducati #King ?@carlfogarty available http¡\\xad ', 'label': None, 'path': 'data/2957.jpg'}, {'id': '2099', 'text': 'And in this one', 'label': None, 'path': 'data/2099.jpg'}, {'id': '2962', 'text': 'RT @emitoms: Foggy drives ? ', 'label': None, 'path': 'data/2962.jpg'}, {'id': '460', 'text': 'If you are not outraged then you are not listening ', 'label': None, 'path': 'data/460.jpg'}, {'id': '1918', 'text': 'Behold the lilies of the field.....#bible #caring @lajlaj1 @CSPressRoom ', 'label': None, 'path': 'data/1918.jpg'}, {'id': '3052', 'text': 'RT @peta2: There¡¯s nothing ¡°entertaining¡± about seeing a helpless animal in captivity. #NotOurs ', 'label': None, 'path': 'data/3052.jpg'}, {'id': '13', 'text': \"I can't even tell you guys how much I love these covers ? @Melissa_Landers #invaded #alienated #prettycovers \", 'label': None, 'path': 'data/13.jpg'}, {'id': '863', 'text': 'Greeted by strange children at the atm #antibanter #frightened #poverty #sorrow #yourbalanceis13cent #familyfun ', 'label': None, 'path': 'data/863.jpg'}, {'id': '1252', 'text': '#trapped #trampoline #cool #frozen #freeze #freezing #frost #frosty #dinosaur #prehistoric #awesome #amazing #cold ¡\\xad ', 'label': None, 'path': 'data/1252.jpg'}, {'id': '3570', 'text': 'RT @TWooodley: Tonight he shocked the world! @thenotoriousmma @ufc #UFC189 #UFCFightWeek #ufc @afflictionclothing ', 'label': None, 'path': 'data/3570.jpg'}, {'id': '4684', 'text': \"Finished In HOURS! - SIMPLE to Supercharge Your Marketing. Don 't Miss... http://t.co/7iCqcCz8QN http://t.co/CUqLMfHpCr\", 'label': None, 'path': 'data/4684.jpg'}, {'id': '2046', 'text': 'RT @MBfashionweek: Shades of mermaid backstage at Son Jung Wan #MBFW | #NYFW ', 'label': None, 'path': 'data/2046.jpg'}, {'id': '1537', 'text': 'Do you ever feel like the guy on the left!? #Monday #gloomy #difficultpeople #flockoff ', 'label': None, 'path': 'data/1537.jpg'}, {'id': '2555', 'text': 'Crushed it at the @WarriorDash in Minnesota yesterday! #WarriorNation ', 'label': None, 'path': 'data/2555.jpg'}, {'id': '1052', 'text': 'Someone needs to explain to me what is going on in this picture. #befuddled #crazy ', 'label': None, 'path': 'data/1052.jpg'}, {'id': '1713', 'text': 'RT @choosgin: #FlexibleWorking: working from home drives #productivity 13% more but #loneliness is downside ', 'label': None, 'path': 'data/1713.jpg'}, {'id': '2597', 'text': 'RT @Patriots: Patriots Football Weekly takes a look at the defensive ends: ', 'label': None, 'path': 'data/2597.jpg'}, {'id': '282', 'text': 'RT @FootyVibez: All I need for valentines is the happiness of playing soccer ?? ', 'label': None, 'path': 'data/282.jpg'}, {'id': '3833', 'text': 'Used 2011 Holiday Rambler Augusta 25PCS Class C Motor Home For Sale.Reduced $10K - Full re¡\\xad ', 'label': None, 'path': 'data/3833.jpg'}, {'id': '4885', 'text': 'RT @EmWhitham: Instagram has banned #CURVY. The reason why will infuriate you. It certainly infuriated me: https://t.co/Xtxg12TsLW http://t¡\\xad', 'label': None, 'path': 'data/4885.jpg'}, {'id': '4587', 'text': 'RT @AUMTAENY: ?????????????????????? ???????????????????????????????????????!!! 2000 ???????? ????????????????????????????? 5555 http://t.c¡\\xad', 'label': None, 'path': 'data/4587.jpg'}, {'id': '1401', 'text': '#KimKPrada this is just tacky. There is nothing fashionable here. These companies use her as a novelty. #disgraced ', 'label': None, 'path': 'data/1401.jpg'}, {'id': '1281', 'text': 'Man', 'label': None, 'path': 'data/1281.jpg'}, {'id': '2085', 'text': \"RT @yildraws: imagining mitsutada as that smart-looking student & ookurikara as the delinquent _(:'3 J #tourabu69min \", 'label': None, 'path': 'data/2085.jpg'}, {'id': '565', 'text': \"#ski #resort @ #akita #prefecture's #tazawako #area are beautiful & ... #empty! Go while this lasts! #powder #snow \", 'label': None, 'path': 'data/565.jpg'}, {'id': '1205', 'text': 'RT @JessikaDommeUK: Come and visit my interrogation and punishment cell. #caged #beaten #hooded ', 'label': None, 'path': 'data/1205.jpg'}, {'id': '1560', 'text': 'Sometimes music', 'label': None, 'path': 'data/1560.jpg'}, {'id': '4064', 'text': \"RT @DailyMirror: 'Drunk man is beaten and tied up by fellow plane passengers' http://t.co/m9JidWkDET http://t.co/ricnLmYfZe\", 'label': None, 'path': 'data/4064.jpg'}, {'id': '1036', 'text': 'How I feel after I #lift! The #pump is #strong in me! #FITFAM #TheStruggleIsReal #ForceChoke ', 'label': None, 'path': 'data/1036.jpg'}, {'id': '2606', 'text': \"RT @simonstacpoole: Cracking Popperfoto pic on @MailSport shows a dejected Ayrton #Senna at Silverstone '89. #picturetellsathousandwords ht¡\\xad \", 'label': None, 'path': 'data/2606.jpg'}, {'id': '4777', 'text': \"RT @NotebookMsgs: It's the birthday of a man who made our childhoods awesome just by being in it! Happy Birthday Robin Williams! http://t.c¡\\xad\", 'label': None, 'path': 'data/4777.jpg'}, {'id': '588', 'text': 'All Natural Bandage 4 #Cooks! STOPS #Bleeding in SECONDS #culinary #recipes @rachelray @gzchef ', 'label': None, 'path': 'data/588.jpg'}, {'id': '609', 'text': 'RT @rdonadon: Poche ore dalla partenza questa splendida due giorni di brain-storming e ci sono prime vittime #hackwine @zonin1821 ', 'label': None, 'path': 'data/609.jpg'}, {'id': '3279', 'text': 'RT @Wimbledon: With help from @toddwoodbridge', 'label': None, 'path': 'data/3279.jpg'}, {'id': '3511', 'text': 'RT @GhostTown: New @bmthofficial song ?? ', 'label': None, 'path': 'data/3511.jpg'}, {'id': '4796', 'text': 'New Driver Power Towing Mirror Heat Heated for 04-13 Nissan Titan Pickup Truck http://t.co/4PoBJbYUgQ http://t.co/sLAeglcAZa', 'label': None, 'path': 'data/4796.jpg'}, {'id': '2107', 'text': '@gallowsofficial just pre ordered \"desolate sounds\".... now to play the waiting game ', 'label': None, 'path': 'data/2107.jpg'}, {'id': '1106', 'text': 'Why buy #ordinary art when you can have your art on #sailcloth. #vibrant colors!! ', 'label': None, 'path': 'data/1106.jpg'}, {'id': '3395', 'text': 'RT @Nitsuano: Oh ya big thanks to @mr_mortified again for this amazing glasses holder. ', 'label': None, 'path': 'data/3395.jpg'}, {'id': '2546', 'text': 'RT @Telegraph: Crippled Greece yields to overwhelming power as deal looms | @AmbroseEP ', 'label': None, 'path': 'data/2546.jpg'}, {'id': '4678', 'text': 'Just finished this oak dresser. One of my favorites. http://t.co/5B8TX1CDDa', 'label': None, 'path': 'data/4678.jpg'}, {'id': '1000', 'text': \"betterfeelingfilms: RT via Instagram: First day of filming #powerless back in 2011. Can't ¡\\xad \", 'label': None, 'path': 'data/1000.jpg'}, {'id': '1048', 'text': '??? #stunned #sunglasses #gafas #gafasdesol ', 'label': None, 'path': 'data/1048.jpg'}, {'id': '1059', 'text': 'Seeing @nbdbnb in a few days #excited #or #terrified #California #food ', 'label': None, 'path': 'data/1059.jpg'}, {'id': '1485', 'text': 'And the #dragon guarding our #heart is called #fear... ', 'label': None, 'path': 'data/1485.jpg'}, {'id': '3195', 'text': 'RT @NWSAlbuquerque: Isolated strong to severe storms developing over western NM early this afternoon. #nmwx ', 'label': None, 'path': 'data/3195.jpg'}, {'id': '2029', 'text': 'Cliff dwelling above Peacocks Gallop (recently demolished) #abandoned #streetphotography #earthquake #Christchurch ', 'label': None, 'path': 'data/2029.jpg'}]\n"
     ]
    }
   ],
   "source": [
    "import json\n",
    "\n",
    "with open(\"test.json\", \"r\") as f:\n",
    "    # Load the data from the file\n",
    "    test_data = json.load(f)\n",
    "\n",
    "# Now 'data' is a Python object containing the data from the JSON file\n",
    "print(test_data)"
   ]
  },
  {
   "cell_type": "code",
   "execution_count": 52,
   "metadata": {},
   "outputs": [
    {
     "name": "stdout",
     "output_type": "stream",
     "text": [
      "511\n"
     ]
    }
   ],
   "source": [
    "print(len(test_data))"
   ]
  },
  {
   "cell_type": "code",
   "execution_count": 61,
   "metadata": {},
   "outputs": [
    {
     "name": "stdout",
     "output_type": "stream",
     "text": [
      "      0    1\n",
      "0  guid  tag\n",
      "1     8  NaN\n",
      "2  1576  NaN\n",
      "3  2320  NaN\n",
      "4  4912  NaN\n",
      "      0         1\n",
      "0  guid       tag\n",
      "1     8  POSITIVE\n",
      "2  1576  POSITIVE\n",
      "3  2320  POSITIVE\n",
      "4  4912  NEGATIVE\n"
     ]
    }
   ],
   "source": [
    "import pandas as pd\n",
    "\n",
    "df = pd.read_csv(\"test_with_label.txt\", sep=\",\", header=None)\n",
    "print(df.head())\n",
    "for i in range(len(test_data)):\n",
    "    label = inference_function(test_data[i])\n",
    "    df.iloc[i + 1, 1] = label\n",
    "print(df.head())"
   ]
  },
  {
   "cell_type": "code",
   "execution_count": 63,
   "metadata": {},
   "outputs": [],
   "source": [
    "df.to_csv(\"test_with_label.txt\", index=False, header=False)"
   ]
  },
  {
   "cell_type": "code",
   "execution_count": null,
   "metadata": {},
   "outputs": [],
   "source": []
  }
 ],
 "metadata": {
  "kernelspec": {
   "display_name": "torch",
   "language": "python",
   "name": "python3"
  },
  "language_info": {
   "codemirror_mode": {
    "name": "ipython",
    "version": 3
   },
   "file_extension": ".py",
   "mimetype": "text/x-python",
   "name": "python",
   "nbconvert_exporter": "python",
   "pygments_lexer": "ipython3",
   "version": "3.10.8"
  }
 },
 "nbformat": 4,
 "nbformat_minor": 2
}
